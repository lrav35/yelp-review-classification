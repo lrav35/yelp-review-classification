{
  "nbformat": 4,
  "nbformat_minor": 0,
  "metadata": {
    "colab": {
      "provenance": [],
      "gpuType": "T4"
    },
    "kernelspec": {
      "name": "python3",
      "display_name": "Python 3"
    },
    "language_info": {
      "name": "python"
    },
    "accelerator": "GPU",
    "widgets": {
      "application/vnd.jupyter.widget-state+json": {
        "383153b7dc874ee7aa5df5cc1af1b4d3": {
          "model_module": "@jupyter-widgets/controls",
          "model_name": "HBoxModel",
          "model_module_version": "1.5.0",
          "state": {
            "_dom_classes": [],
            "_model_module": "@jupyter-widgets/controls",
            "_model_module_version": "1.5.0",
            "_model_name": "HBoxModel",
            "_view_count": null,
            "_view_module": "@jupyter-widgets/controls",
            "_view_module_version": "1.5.0",
            "_view_name": "HBoxView",
            "box_style": "",
            "children": [
              "IPY_MODEL_0f81ae2860c544099d2a234997064998",
              "IPY_MODEL_ecaee8f02e1343c5b26b674a4ae8fb70",
              "IPY_MODEL_2ea3e9c093474d048230bfdb213430be"
            ],
            "layout": "IPY_MODEL_0242417dd99248c5ac3a3d6681d045eb"
          }
        },
        "0f81ae2860c544099d2a234997064998": {
          "model_module": "@jupyter-widgets/controls",
          "model_name": "HTMLModel",
          "model_module_version": "1.5.0",
          "state": {
            "_dom_classes": [],
            "_model_module": "@jupyter-widgets/controls",
            "_model_module_version": "1.5.0",
            "_model_name": "HTMLModel",
            "_view_count": null,
            "_view_module": "@jupyter-widgets/controls",
            "_view_module_version": "1.5.0",
            "_view_name": "HTMLView",
            "description": "",
            "description_tooltip": null,
            "layout": "IPY_MODEL_1d4acc9bb4314df282ed17ecfc978293",
            "placeholder": "​",
            "style": "IPY_MODEL_5930c08fc48a44078d90f125a99b6609",
            "value": "100%"
          }
        },
        "ecaee8f02e1343c5b26b674a4ae8fb70": {
          "model_module": "@jupyter-widgets/controls",
          "model_name": "FloatProgressModel",
          "model_module_version": "1.5.0",
          "state": {
            "_dom_classes": [],
            "_model_module": "@jupyter-widgets/controls",
            "_model_module_version": "1.5.0",
            "_model_name": "FloatProgressModel",
            "_view_count": null,
            "_view_module": "@jupyter-widgets/controls",
            "_view_module_version": "1.5.0",
            "_view_name": "ProgressView",
            "bar_style": "success",
            "description": "",
            "description_tooltip": null,
            "layout": "IPY_MODEL_4abb078ad756409d96b11fc3dce2c54f",
            "max": 24000,
            "min": 0,
            "orientation": "horizontal",
            "style": "IPY_MODEL_f4e50aa11c7744d1ac0f741ccf472d93",
            "value": 24000
          }
        },
        "2ea3e9c093474d048230bfdb213430be": {
          "model_module": "@jupyter-widgets/controls",
          "model_name": "HTMLModel",
          "model_module_version": "1.5.0",
          "state": {
            "_dom_classes": [],
            "_model_module": "@jupyter-widgets/controls",
            "_model_module_version": "1.5.0",
            "_model_name": "HTMLModel",
            "_view_count": null,
            "_view_module": "@jupyter-widgets/controls",
            "_view_module_version": "1.5.0",
            "_view_name": "HTMLView",
            "description": "",
            "description_tooltip": null,
            "layout": "IPY_MODEL_fe6e52073adb40b9b52e57036c3d033e",
            "placeholder": "​",
            "style": "IPY_MODEL_80a6c04951da466dac332462706c4f0a",
            "value": " 24000/24000 [02:16&lt;00:00, 126.86it/s]"
          }
        },
        "0242417dd99248c5ac3a3d6681d045eb": {
          "model_module": "@jupyter-widgets/base",
          "model_name": "LayoutModel",
          "model_module_version": "1.2.0",
          "state": {
            "_model_module": "@jupyter-widgets/base",
            "_model_module_version": "1.2.0",
            "_model_name": "LayoutModel",
            "_view_count": null,
            "_view_module": "@jupyter-widgets/base",
            "_view_module_version": "1.2.0",
            "_view_name": "LayoutView",
            "align_content": null,
            "align_items": null,
            "align_self": null,
            "border": null,
            "bottom": null,
            "display": null,
            "flex": null,
            "flex_flow": null,
            "grid_area": null,
            "grid_auto_columns": null,
            "grid_auto_flow": null,
            "grid_auto_rows": null,
            "grid_column": null,
            "grid_gap": null,
            "grid_row": null,
            "grid_template_areas": null,
            "grid_template_columns": null,
            "grid_template_rows": null,
            "height": null,
            "justify_content": null,
            "justify_items": null,
            "left": null,
            "margin": null,
            "max_height": null,
            "max_width": null,
            "min_height": null,
            "min_width": null,
            "object_fit": null,
            "object_position": null,
            "order": null,
            "overflow": null,
            "overflow_x": null,
            "overflow_y": null,
            "padding": null,
            "right": null,
            "top": null,
            "visibility": null,
            "width": null
          }
        },
        "1d4acc9bb4314df282ed17ecfc978293": {
          "model_module": "@jupyter-widgets/base",
          "model_name": "LayoutModel",
          "model_module_version": "1.2.0",
          "state": {
            "_model_module": "@jupyter-widgets/base",
            "_model_module_version": "1.2.0",
            "_model_name": "LayoutModel",
            "_view_count": null,
            "_view_module": "@jupyter-widgets/base",
            "_view_module_version": "1.2.0",
            "_view_name": "LayoutView",
            "align_content": null,
            "align_items": null,
            "align_self": null,
            "border": null,
            "bottom": null,
            "display": null,
            "flex": null,
            "flex_flow": null,
            "grid_area": null,
            "grid_auto_columns": null,
            "grid_auto_flow": null,
            "grid_auto_rows": null,
            "grid_column": null,
            "grid_gap": null,
            "grid_row": null,
            "grid_template_areas": null,
            "grid_template_columns": null,
            "grid_template_rows": null,
            "height": null,
            "justify_content": null,
            "justify_items": null,
            "left": null,
            "margin": null,
            "max_height": null,
            "max_width": null,
            "min_height": null,
            "min_width": null,
            "object_fit": null,
            "object_position": null,
            "order": null,
            "overflow": null,
            "overflow_x": null,
            "overflow_y": null,
            "padding": null,
            "right": null,
            "top": null,
            "visibility": null,
            "width": null
          }
        },
        "5930c08fc48a44078d90f125a99b6609": {
          "model_module": "@jupyter-widgets/controls",
          "model_name": "DescriptionStyleModel",
          "model_module_version": "1.5.0",
          "state": {
            "_model_module": "@jupyter-widgets/controls",
            "_model_module_version": "1.5.0",
            "_model_name": "DescriptionStyleModel",
            "_view_count": null,
            "_view_module": "@jupyter-widgets/base",
            "_view_module_version": "1.2.0",
            "_view_name": "StyleView",
            "description_width": ""
          }
        },
        "4abb078ad756409d96b11fc3dce2c54f": {
          "model_module": "@jupyter-widgets/base",
          "model_name": "LayoutModel",
          "model_module_version": "1.2.0",
          "state": {
            "_model_module": "@jupyter-widgets/base",
            "_model_module_version": "1.2.0",
            "_model_name": "LayoutModel",
            "_view_count": null,
            "_view_module": "@jupyter-widgets/base",
            "_view_module_version": "1.2.0",
            "_view_name": "LayoutView",
            "align_content": null,
            "align_items": null,
            "align_self": null,
            "border": null,
            "bottom": null,
            "display": null,
            "flex": null,
            "flex_flow": null,
            "grid_area": null,
            "grid_auto_columns": null,
            "grid_auto_flow": null,
            "grid_auto_rows": null,
            "grid_column": null,
            "grid_gap": null,
            "grid_row": null,
            "grid_template_areas": null,
            "grid_template_columns": null,
            "grid_template_rows": null,
            "height": null,
            "justify_content": null,
            "justify_items": null,
            "left": null,
            "margin": null,
            "max_height": null,
            "max_width": null,
            "min_height": null,
            "min_width": null,
            "object_fit": null,
            "object_position": null,
            "order": null,
            "overflow": null,
            "overflow_x": null,
            "overflow_y": null,
            "padding": null,
            "right": null,
            "top": null,
            "visibility": null,
            "width": null
          }
        },
        "f4e50aa11c7744d1ac0f741ccf472d93": {
          "model_module": "@jupyter-widgets/controls",
          "model_name": "ProgressStyleModel",
          "model_module_version": "1.5.0",
          "state": {
            "_model_module": "@jupyter-widgets/controls",
            "_model_module_version": "1.5.0",
            "_model_name": "ProgressStyleModel",
            "_view_count": null,
            "_view_module": "@jupyter-widgets/base",
            "_view_module_version": "1.2.0",
            "_view_name": "StyleView",
            "bar_color": null,
            "description_width": ""
          }
        },
        "fe6e52073adb40b9b52e57036c3d033e": {
          "model_module": "@jupyter-widgets/base",
          "model_name": "LayoutModel",
          "model_module_version": "1.2.0",
          "state": {
            "_model_module": "@jupyter-widgets/base",
            "_model_module_version": "1.2.0",
            "_model_name": "LayoutModel",
            "_view_count": null,
            "_view_module": "@jupyter-widgets/base",
            "_view_module_version": "1.2.0",
            "_view_name": "LayoutView",
            "align_content": null,
            "align_items": null,
            "align_self": null,
            "border": null,
            "bottom": null,
            "display": null,
            "flex": null,
            "flex_flow": null,
            "grid_area": null,
            "grid_auto_columns": null,
            "grid_auto_flow": null,
            "grid_auto_rows": null,
            "grid_column": null,
            "grid_gap": null,
            "grid_row": null,
            "grid_template_areas": null,
            "grid_template_columns": null,
            "grid_template_rows": null,
            "height": null,
            "justify_content": null,
            "justify_items": null,
            "left": null,
            "margin": null,
            "max_height": null,
            "max_width": null,
            "min_height": null,
            "min_width": null,
            "object_fit": null,
            "object_position": null,
            "order": null,
            "overflow": null,
            "overflow_x": null,
            "overflow_y": null,
            "padding": null,
            "right": null,
            "top": null,
            "visibility": null,
            "width": null
          }
        },
        "80a6c04951da466dac332462706c4f0a": {
          "model_module": "@jupyter-widgets/controls",
          "model_name": "DescriptionStyleModel",
          "model_module_version": "1.5.0",
          "state": {
            "_model_module": "@jupyter-widgets/controls",
            "_model_module_version": "1.5.0",
            "_model_name": "DescriptionStyleModel",
            "_view_count": null,
            "_view_module": "@jupyter-widgets/base",
            "_view_module_version": "1.2.0",
            "_view_name": "StyleView",
            "description_width": ""
          }
        },
        "cc412b46d9f84ad2b10ad7d88dee0fa6": {
          "model_module": "@jupyter-widgets/controls",
          "model_name": "HBoxModel",
          "model_module_version": "1.5.0",
          "state": {
            "_dom_classes": [],
            "_model_module": "@jupyter-widgets/controls",
            "_model_module_version": "1.5.0",
            "_model_name": "HBoxModel",
            "_view_count": null,
            "_view_module": "@jupyter-widgets/controls",
            "_view_module_version": "1.5.0",
            "_view_name": "HBoxView",
            "box_style": "",
            "children": [
              "IPY_MODEL_37ad0929d32141b6b5bce84a4dec44fe",
              "IPY_MODEL_b4bd5a9afb7e42daae87c03b6a21ff15",
              "IPY_MODEL_f05d5c3fb9c54644b33f0465f80451d9"
            ],
            "layout": "IPY_MODEL_55a243eaca0b4f738bbbbff17c541834"
          }
        },
        "37ad0929d32141b6b5bce84a4dec44fe": {
          "model_module": "@jupyter-widgets/controls",
          "model_name": "HTMLModel",
          "model_module_version": "1.5.0",
          "state": {
            "_dom_classes": [],
            "_model_module": "@jupyter-widgets/controls",
            "_model_module_version": "1.5.0",
            "_model_name": "HTMLModel",
            "_view_count": null,
            "_view_module": "@jupyter-widgets/controls",
            "_view_module_version": "1.5.0",
            "_view_name": "HTMLView",
            "description": "",
            "description_tooltip": null,
            "layout": "IPY_MODEL_bcff81b45df74f079eb9d730d895383c",
            "placeholder": "​",
            "style": "IPY_MODEL_632c00fbab334020919dbcff0a07b886",
            "value": "100%"
          }
        },
        "b4bd5a9afb7e42daae87c03b6a21ff15": {
          "model_module": "@jupyter-widgets/controls",
          "model_name": "FloatProgressModel",
          "model_module_version": "1.5.0",
          "state": {
            "_dom_classes": [],
            "_model_module": "@jupyter-widgets/controls",
            "_model_module_version": "1.5.0",
            "_model_name": "FloatProgressModel",
            "_view_count": null,
            "_view_module": "@jupyter-widgets/controls",
            "_view_module_version": "1.5.0",
            "_view_name": "ProgressView",
            "bar_style": "success",
            "description": "",
            "description_tooltip": null,
            "layout": "IPY_MODEL_363d2a12a8214ca5a383ba6bbf51f10c",
            "max": 6000,
            "min": 0,
            "orientation": "horizontal",
            "style": "IPY_MODEL_98a0967c990b47c48924fa41d4005705",
            "value": 6000
          }
        },
        "f05d5c3fb9c54644b33f0465f80451d9": {
          "model_module": "@jupyter-widgets/controls",
          "model_name": "HTMLModel",
          "model_module_version": "1.5.0",
          "state": {
            "_dom_classes": [],
            "_model_module": "@jupyter-widgets/controls",
            "_model_module_version": "1.5.0",
            "_model_name": "HTMLModel",
            "_view_count": null,
            "_view_module": "@jupyter-widgets/controls",
            "_view_module_version": "1.5.0",
            "_view_name": "HTMLView",
            "description": "",
            "description_tooltip": null,
            "layout": "IPY_MODEL_ce250b1b20244303bbaf5858fd480d98",
            "placeholder": "​",
            "style": "IPY_MODEL_baeff5e2117d4abbbe4a46958b2c559d",
            "value": " 6000/6000 [00:50&lt;00:00, 108.38it/s]"
          }
        },
        "55a243eaca0b4f738bbbbff17c541834": {
          "model_module": "@jupyter-widgets/base",
          "model_name": "LayoutModel",
          "model_module_version": "1.2.0",
          "state": {
            "_model_module": "@jupyter-widgets/base",
            "_model_module_version": "1.2.0",
            "_model_name": "LayoutModel",
            "_view_count": null,
            "_view_module": "@jupyter-widgets/base",
            "_view_module_version": "1.2.0",
            "_view_name": "LayoutView",
            "align_content": null,
            "align_items": null,
            "align_self": null,
            "border": null,
            "bottom": null,
            "display": null,
            "flex": null,
            "flex_flow": null,
            "grid_area": null,
            "grid_auto_columns": null,
            "grid_auto_flow": null,
            "grid_auto_rows": null,
            "grid_column": null,
            "grid_gap": null,
            "grid_row": null,
            "grid_template_areas": null,
            "grid_template_columns": null,
            "grid_template_rows": null,
            "height": null,
            "justify_content": null,
            "justify_items": null,
            "left": null,
            "margin": null,
            "max_height": null,
            "max_width": null,
            "min_height": null,
            "min_width": null,
            "object_fit": null,
            "object_position": null,
            "order": null,
            "overflow": null,
            "overflow_x": null,
            "overflow_y": null,
            "padding": null,
            "right": null,
            "top": null,
            "visibility": null,
            "width": null
          }
        },
        "bcff81b45df74f079eb9d730d895383c": {
          "model_module": "@jupyter-widgets/base",
          "model_name": "LayoutModel",
          "model_module_version": "1.2.0",
          "state": {
            "_model_module": "@jupyter-widgets/base",
            "_model_module_version": "1.2.0",
            "_model_name": "LayoutModel",
            "_view_count": null,
            "_view_module": "@jupyter-widgets/base",
            "_view_module_version": "1.2.0",
            "_view_name": "LayoutView",
            "align_content": null,
            "align_items": null,
            "align_self": null,
            "border": null,
            "bottom": null,
            "display": null,
            "flex": null,
            "flex_flow": null,
            "grid_area": null,
            "grid_auto_columns": null,
            "grid_auto_flow": null,
            "grid_auto_rows": null,
            "grid_column": null,
            "grid_gap": null,
            "grid_row": null,
            "grid_template_areas": null,
            "grid_template_columns": null,
            "grid_template_rows": null,
            "height": null,
            "justify_content": null,
            "justify_items": null,
            "left": null,
            "margin": null,
            "max_height": null,
            "max_width": null,
            "min_height": null,
            "min_width": null,
            "object_fit": null,
            "object_position": null,
            "order": null,
            "overflow": null,
            "overflow_x": null,
            "overflow_y": null,
            "padding": null,
            "right": null,
            "top": null,
            "visibility": null,
            "width": null
          }
        },
        "632c00fbab334020919dbcff0a07b886": {
          "model_module": "@jupyter-widgets/controls",
          "model_name": "DescriptionStyleModel",
          "model_module_version": "1.5.0",
          "state": {
            "_model_module": "@jupyter-widgets/controls",
            "_model_module_version": "1.5.0",
            "_model_name": "DescriptionStyleModel",
            "_view_count": null,
            "_view_module": "@jupyter-widgets/base",
            "_view_module_version": "1.2.0",
            "_view_name": "StyleView",
            "description_width": ""
          }
        },
        "363d2a12a8214ca5a383ba6bbf51f10c": {
          "model_module": "@jupyter-widgets/base",
          "model_name": "LayoutModel",
          "model_module_version": "1.2.0",
          "state": {
            "_model_module": "@jupyter-widgets/base",
            "_model_module_version": "1.2.0",
            "_model_name": "LayoutModel",
            "_view_count": null,
            "_view_module": "@jupyter-widgets/base",
            "_view_module_version": "1.2.0",
            "_view_name": "LayoutView",
            "align_content": null,
            "align_items": null,
            "align_self": null,
            "border": null,
            "bottom": null,
            "display": null,
            "flex": null,
            "flex_flow": null,
            "grid_area": null,
            "grid_auto_columns": null,
            "grid_auto_flow": null,
            "grid_auto_rows": null,
            "grid_column": null,
            "grid_gap": null,
            "grid_row": null,
            "grid_template_areas": null,
            "grid_template_columns": null,
            "grid_template_rows": null,
            "height": null,
            "justify_content": null,
            "justify_items": null,
            "left": null,
            "margin": null,
            "max_height": null,
            "max_width": null,
            "min_height": null,
            "min_width": null,
            "object_fit": null,
            "object_position": null,
            "order": null,
            "overflow": null,
            "overflow_x": null,
            "overflow_y": null,
            "padding": null,
            "right": null,
            "top": null,
            "visibility": null,
            "width": null
          }
        },
        "98a0967c990b47c48924fa41d4005705": {
          "model_module": "@jupyter-widgets/controls",
          "model_name": "ProgressStyleModel",
          "model_module_version": "1.5.0",
          "state": {
            "_model_module": "@jupyter-widgets/controls",
            "_model_module_version": "1.5.0",
            "_model_name": "ProgressStyleModel",
            "_view_count": null,
            "_view_module": "@jupyter-widgets/base",
            "_view_module_version": "1.2.0",
            "_view_name": "StyleView",
            "bar_color": null,
            "description_width": ""
          }
        },
        "ce250b1b20244303bbaf5858fd480d98": {
          "model_module": "@jupyter-widgets/base",
          "model_name": "LayoutModel",
          "model_module_version": "1.2.0",
          "state": {
            "_model_module": "@jupyter-widgets/base",
            "_model_module_version": "1.2.0",
            "_model_name": "LayoutModel",
            "_view_count": null,
            "_view_module": "@jupyter-widgets/base",
            "_view_module_version": "1.2.0",
            "_view_name": "LayoutView",
            "align_content": null,
            "align_items": null,
            "align_self": null,
            "border": null,
            "bottom": null,
            "display": null,
            "flex": null,
            "flex_flow": null,
            "grid_area": null,
            "grid_auto_columns": null,
            "grid_auto_flow": null,
            "grid_auto_rows": null,
            "grid_column": null,
            "grid_gap": null,
            "grid_row": null,
            "grid_template_areas": null,
            "grid_template_columns": null,
            "grid_template_rows": null,
            "height": null,
            "justify_content": null,
            "justify_items": null,
            "left": null,
            "margin": null,
            "max_height": null,
            "max_width": null,
            "min_height": null,
            "min_width": null,
            "object_fit": null,
            "object_position": null,
            "order": null,
            "overflow": null,
            "overflow_x": null,
            "overflow_y": null,
            "padding": null,
            "right": null,
            "top": null,
            "visibility": null,
            "width": null
          }
        },
        "baeff5e2117d4abbbe4a46958b2c559d": {
          "model_module": "@jupyter-widgets/controls",
          "model_name": "DescriptionStyleModel",
          "model_module_version": "1.5.0",
          "state": {
            "_model_module": "@jupyter-widgets/controls",
            "_model_module_version": "1.5.0",
            "_model_name": "DescriptionStyleModel",
            "_view_count": null,
            "_view_module": "@jupyter-widgets/base",
            "_view_module_version": "1.2.0",
            "_view_name": "StyleView",
            "description_width": ""
          }
        },
        "0e0ea4c981d345fc967ab6d2ae4d4d4a": {
          "model_module": "@jupyter-widgets/controls",
          "model_name": "HBoxModel",
          "model_module_version": "1.5.0",
          "state": {
            "_dom_classes": [],
            "_model_module": "@jupyter-widgets/controls",
            "_model_module_version": "1.5.0",
            "_model_name": "HBoxModel",
            "_view_count": null,
            "_view_module": "@jupyter-widgets/controls",
            "_view_module_version": "1.5.0",
            "_view_name": "HBoxView",
            "box_style": "",
            "children": [
              "IPY_MODEL_2b43c5b9ec9d4c17aa4b62739f038378",
              "IPY_MODEL_4e9d424960a34f50820a4bc6182405dc",
              "IPY_MODEL_782a0bef966b40f0930a8eb37ec46708"
            ],
            "layout": "IPY_MODEL_aa31e86338e744dd8726541aab718158"
          }
        },
        "2b43c5b9ec9d4c17aa4b62739f038378": {
          "model_module": "@jupyter-widgets/controls",
          "model_name": "HTMLModel",
          "model_module_version": "1.5.0",
          "state": {
            "_dom_classes": [],
            "_model_module": "@jupyter-widgets/controls",
            "_model_module_version": "1.5.0",
            "_model_name": "HTMLModel",
            "_view_count": null,
            "_view_module": "@jupyter-widgets/controls",
            "_view_module_version": "1.5.0",
            "_view_name": "HTMLView",
            "description": "",
            "description_tooltip": null,
            "layout": "IPY_MODEL_d7b65ebe07904c8a9b9072e813e2123e",
            "placeholder": "​",
            "style": "IPY_MODEL_9c27734829134aeca55d2d5e9e5e0c46",
            "value": "tokenizer_config.json: 100%"
          }
        },
        "4e9d424960a34f50820a4bc6182405dc": {
          "model_module": "@jupyter-widgets/controls",
          "model_name": "FloatProgressModel",
          "model_module_version": "1.5.0",
          "state": {
            "_dom_classes": [],
            "_model_module": "@jupyter-widgets/controls",
            "_model_module_version": "1.5.0",
            "_model_name": "FloatProgressModel",
            "_view_count": null,
            "_view_module": "@jupyter-widgets/controls",
            "_view_module_version": "1.5.0",
            "_view_name": "ProgressView",
            "bar_style": "success",
            "description": "",
            "description_tooltip": null,
            "layout": "IPY_MODEL_48eaed498ac7419294e45306f3bf6dd8",
            "max": 28,
            "min": 0,
            "orientation": "horizontal",
            "style": "IPY_MODEL_d9d8a38ab48f4f4a8a13aea772484ff4",
            "value": 28
          }
        },
        "782a0bef966b40f0930a8eb37ec46708": {
          "model_module": "@jupyter-widgets/controls",
          "model_name": "HTMLModel",
          "model_module_version": "1.5.0",
          "state": {
            "_dom_classes": [],
            "_model_module": "@jupyter-widgets/controls",
            "_model_module_version": "1.5.0",
            "_model_name": "HTMLModel",
            "_view_count": null,
            "_view_module": "@jupyter-widgets/controls",
            "_view_module_version": "1.5.0",
            "_view_name": "HTMLView",
            "description": "",
            "description_tooltip": null,
            "layout": "IPY_MODEL_25e57f68e7e34521bc980919c8220f93",
            "placeholder": "​",
            "style": "IPY_MODEL_2280a8a47e0140eaaa5b3c4be3284409",
            "value": " 28.0/28.0 [00:00&lt;00:00, 318B/s]"
          }
        },
        "aa31e86338e744dd8726541aab718158": {
          "model_module": "@jupyter-widgets/base",
          "model_name": "LayoutModel",
          "model_module_version": "1.2.0",
          "state": {
            "_model_module": "@jupyter-widgets/base",
            "_model_module_version": "1.2.0",
            "_model_name": "LayoutModel",
            "_view_count": null,
            "_view_module": "@jupyter-widgets/base",
            "_view_module_version": "1.2.0",
            "_view_name": "LayoutView",
            "align_content": null,
            "align_items": null,
            "align_self": null,
            "border": null,
            "bottom": null,
            "display": null,
            "flex": null,
            "flex_flow": null,
            "grid_area": null,
            "grid_auto_columns": null,
            "grid_auto_flow": null,
            "grid_auto_rows": null,
            "grid_column": null,
            "grid_gap": null,
            "grid_row": null,
            "grid_template_areas": null,
            "grid_template_columns": null,
            "grid_template_rows": null,
            "height": null,
            "justify_content": null,
            "justify_items": null,
            "left": null,
            "margin": null,
            "max_height": null,
            "max_width": null,
            "min_height": null,
            "min_width": null,
            "object_fit": null,
            "object_position": null,
            "order": null,
            "overflow": null,
            "overflow_x": null,
            "overflow_y": null,
            "padding": null,
            "right": null,
            "top": null,
            "visibility": null,
            "width": null
          }
        },
        "d7b65ebe07904c8a9b9072e813e2123e": {
          "model_module": "@jupyter-widgets/base",
          "model_name": "LayoutModel",
          "model_module_version": "1.2.0",
          "state": {
            "_model_module": "@jupyter-widgets/base",
            "_model_module_version": "1.2.0",
            "_model_name": "LayoutModel",
            "_view_count": null,
            "_view_module": "@jupyter-widgets/base",
            "_view_module_version": "1.2.0",
            "_view_name": "LayoutView",
            "align_content": null,
            "align_items": null,
            "align_self": null,
            "border": null,
            "bottom": null,
            "display": null,
            "flex": null,
            "flex_flow": null,
            "grid_area": null,
            "grid_auto_columns": null,
            "grid_auto_flow": null,
            "grid_auto_rows": null,
            "grid_column": null,
            "grid_gap": null,
            "grid_row": null,
            "grid_template_areas": null,
            "grid_template_columns": null,
            "grid_template_rows": null,
            "height": null,
            "justify_content": null,
            "justify_items": null,
            "left": null,
            "margin": null,
            "max_height": null,
            "max_width": null,
            "min_height": null,
            "min_width": null,
            "object_fit": null,
            "object_position": null,
            "order": null,
            "overflow": null,
            "overflow_x": null,
            "overflow_y": null,
            "padding": null,
            "right": null,
            "top": null,
            "visibility": null,
            "width": null
          }
        },
        "9c27734829134aeca55d2d5e9e5e0c46": {
          "model_module": "@jupyter-widgets/controls",
          "model_name": "DescriptionStyleModel",
          "model_module_version": "1.5.0",
          "state": {
            "_model_module": "@jupyter-widgets/controls",
            "_model_module_version": "1.5.0",
            "_model_name": "DescriptionStyleModel",
            "_view_count": null,
            "_view_module": "@jupyter-widgets/base",
            "_view_module_version": "1.2.0",
            "_view_name": "StyleView",
            "description_width": ""
          }
        },
        "48eaed498ac7419294e45306f3bf6dd8": {
          "model_module": "@jupyter-widgets/base",
          "model_name": "LayoutModel",
          "model_module_version": "1.2.0",
          "state": {
            "_model_module": "@jupyter-widgets/base",
            "_model_module_version": "1.2.0",
            "_model_name": "LayoutModel",
            "_view_count": null,
            "_view_module": "@jupyter-widgets/base",
            "_view_module_version": "1.2.0",
            "_view_name": "LayoutView",
            "align_content": null,
            "align_items": null,
            "align_self": null,
            "border": null,
            "bottom": null,
            "display": null,
            "flex": null,
            "flex_flow": null,
            "grid_area": null,
            "grid_auto_columns": null,
            "grid_auto_flow": null,
            "grid_auto_rows": null,
            "grid_column": null,
            "grid_gap": null,
            "grid_row": null,
            "grid_template_areas": null,
            "grid_template_columns": null,
            "grid_template_rows": null,
            "height": null,
            "justify_content": null,
            "justify_items": null,
            "left": null,
            "margin": null,
            "max_height": null,
            "max_width": null,
            "min_height": null,
            "min_width": null,
            "object_fit": null,
            "object_position": null,
            "order": null,
            "overflow": null,
            "overflow_x": null,
            "overflow_y": null,
            "padding": null,
            "right": null,
            "top": null,
            "visibility": null,
            "width": null
          }
        },
        "d9d8a38ab48f4f4a8a13aea772484ff4": {
          "model_module": "@jupyter-widgets/controls",
          "model_name": "ProgressStyleModel",
          "model_module_version": "1.5.0",
          "state": {
            "_model_module": "@jupyter-widgets/controls",
            "_model_module_version": "1.5.0",
            "_model_name": "ProgressStyleModel",
            "_view_count": null,
            "_view_module": "@jupyter-widgets/base",
            "_view_module_version": "1.2.0",
            "_view_name": "StyleView",
            "bar_color": null,
            "description_width": ""
          }
        },
        "25e57f68e7e34521bc980919c8220f93": {
          "model_module": "@jupyter-widgets/base",
          "model_name": "LayoutModel",
          "model_module_version": "1.2.0",
          "state": {
            "_model_module": "@jupyter-widgets/base",
            "_model_module_version": "1.2.0",
            "_model_name": "LayoutModel",
            "_view_count": null,
            "_view_module": "@jupyter-widgets/base",
            "_view_module_version": "1.2.0",
            "_view_name": "LayoutView",
            "align_content": null,
            "align_items": null,
            "align_self": null,
            "border": null,
            "bottom": null,
            "display": null,
            "flex": null,
            "flex_flow": null,
            "grid_area": null,
            "grid_auto_columns": null,
            "grid_auto_flow": null,
            "grid_auto_rows": null,
            "grid_column": null,
            "grid_gap": null,
            "grid_row": null,
            "grid_template_areas": null,
            "grid_template_columns": null,
            "grid_template_rows": null,
            "height": null,
            "justify_content": null,
            "justify_items": null,
            "left": null,
            "margin": null,
            "max_height": null,
            "max_width": null,
            "min_height": null,
            "min_width": null,
            "object_fit": null,
            "object_position": null,
            "order": null,
            "overflow": null,
            "overflow_x": null,
            "overflow_y": null,
            "padding": null,
            "right": null,
            "top": null,
            "visibility": null,
            "width": null
          }
        },
        "2280a8a47e0140eaaa5b3c4be3284409": {
          "model_module": "@jupyter-widgets/controls",
          "model_name": "DescriptionStyleModel",
          "model_module_version": "1.5.0",
          "state": {
            "_model_module": "@jupyter-widgets/controls",
            "_model_module_version": "1.5.0",
            "_model_name": "DescriptionStyleModel",
            "_view_count": null,
            "_view_module": "@jupyter-widgets/base",
            "_view_module_version": "1.2.0",
            "_view_name": "StyleView",
            "description_width": ""
          }
        },
        "64e0363d76cf43d995f174d806a42f6d": {
          "model_module": "@jupyter-widgets/controls",
          "model_name": "HBoxModel",
          "model_module_version": "1.5.0",
          "state": {
            "_dom_classes": [],
            "_model_module": "@jupyter-widgets/controls",
            "_model_module_version": "1.5.0",
            "_model_name": "HBoxModel",
            "_view_count": null,
            "_view_module": "@jupyter-widgets/controls",
            "_view_module_version": "1.5.0",
            "_view_name": "HBoxView",
            "box_style": "",
            "children": [
              "IPY_MODEL_f54cb9d263d74d6e9a7dbfe507439aa6",
              "IPY_MODEL_0b7cb07e0c8d439e974ccfa26cae5736",
              "IPY_MODEL_10a444d547e0427095a3e890915f039a"
            ],
            "layout": "IPY_MODEL_a253697bff7e4070b06490d913d0bf48"
          }
        },
        "f54cb9d263d74d6e9a7dbfe507439aa6": {
          "model_module": "@jupyter-widgets/controls",
          "model_name": "HTMLModel",
          "model_module_version": "1.5.0",
          "state": {
            "_dom_classes": [],
            "_model_module": "@jupyter-widgets/controls",
            "_model_module_version": "1.5.0",
            "_model_name": "HTMLModel",
            "_view_count": null,
            "_view_module": "@jupyter-widgets/controls",
            "_view_module_version": "1.5.0",
            "_view_name": "HTMLView",
            "description": "",
            "description_tooltip": null,
            "layout": "IPY_MODEL_58b8acd8a7844ba99641d738928044f1",
            "placeholder": "​",
            "style": "IPY_MODEL_f062bf0e92a34c5e806ed435d1353c51",
            "value": "config.json: 100%"
          }
        },
        "0b7cb07e0c8d439e974ccfa26cae5736": {
          "model_module": "@jupyter-widgets/controls",
          "model_name": "FloatProgressModel",
          "model_module_version": "1.5.0",
          "state": {
            "_dom_classes": [],
            "_model_module": "@jupyter-widgets/controls",
            "_model_module_version": "1.5.0",
            "_model_name": "FloatProgressModel",
            "_view_count": null,
            "_view_module": "@jupyter-widgets/controls",
            "_view_module_version": "1.5.0",
            "_view_name": "ProgressView",
            "bar_style": "success",
            "description": "",
            "description_tooltip": null,
            "layout": "IPY_MODEL_dd73a1bb82ab4771af0e34c534b7cf6c",
            "max": 483,
            "min": 0,
            "orientation": "horizontal",
            "style": "IPY_MODEL_74a21387ab6a45d7a48462b2c18a9197",
            "value": 483
          }
        },
        "10a444d547e0427095a3e890915f039a": {
          "model_module": "@jupyter-widgets/controls",
          "model_name": "HTMLModel",
          "model_module_version": "1.5.0",
          "state": {
            "_dom_classes": [],
            "_model_module": "@jupyter-widgets/controls",
            "_model_module_version": "1.5.0",
            "_model_name": "HTMLModel",
            "_view_count": null,
            "_view_module": "@jupyter-widgets/controls",
            "_view_module_version": "1.5.0",
            "_view_name": "HTMLView",
            "description": "",
            "description_tooltip": null,
            "layout": "IPY_MODEL_789d569e16024c5b88ba38c40c192ce5",
            "placeholder": "​",
            "style": "IPY_MODEL_ec0ad1fbb06f4a96a2ca931681ffc1c1",
            "value": " 483/483 [00:00&lt;00:00, 9.61kB/s]"
          }
        },
        "a253697bff7e4070b06490d913d0bf48": {
          "model_module": "@jupyter-widgets/base",
          "model_name": "LayoutModel",
          "model_module_version": "1.2.0",
          "state": {
            "_model_module": "@jupyter-widgets/base",
            "_model_module_version": "1.2.0",
            "_model_name": "LayoutModel",
            "_view_count": null,
            "_view_module": "@jupyter-widgets/base",
            "_view_module_version": "1.2.0",
            "_view_name": "LayoutView",
            "align_content": null,
            "align_items": null,
            "align_self": null,
            "border": null,
            "bottom": null,
            "display": null,
            "flex": null,
            "flex_flow": null,
            "grid_area": null,
            "grid_auto_columns": null,
            "grid_auto_flow": null,
            "grid_auto_rows": null,
            "grid_column": null,
            "grid_gap": null,
            "grid_row": null,
            "grid_template_areas": null,
            "grid_template_columns": null,
            "grid_template_rows": null,
            "height": null,
            "justify_content": null,
            "justify_items": null,
            "left": null,
            "margin": null,
            "max_height": null,
            "max_width": null,
            "min_height": null,
            "min_width": null,
            "object_fit": null,
            "object_position": null,
            "order": null,
            "overflow": null,
            "overflow_x": null,
            "overflow_y": null,
            "padding": null,
            "right": null,
            "top": null,
            "visibility": null,
            "width": null
          }
        },
        "58b8acd8a7844ba99641d738928044f1": {
          "model_module": "@jupyter-widgets/base",
          "model_name": "LayoutModel",
          "model_module_version": "1.2.0",
          "state": {
            "_model_module": "@jupyter-widgets/base",
            "_model_module_version": "1.2.0",
            "_model_name": "LayoutModel",
            "_view_count": null,
            "_view_module": "@jupyter-widgets/base",
            "_view_module_version": "1.2.0",
            "_view_name": "LayoutView",
            "align_content": null,
            "align_items": null,
            "align_self": null,
            "border": null,
            "bottom": null,
            "display": null,
            "flex": null,
            "flex_flow": null,
            "grid_area": null,
            "grid_auto_columns": null,
            "grid_auto_flow": null,
            "grid_auto_rows": null,
            "grid_column": null,
            "grid_gap": null,
            "grid_row": null,
            "grid_template_areas": null,
            "grid_template_columns": null,
            "grid_template_rows": null,
            "height": null,
            "justify_content": null,
            "justify_items": null,
            "left": null,
            "margin": null,
            "max_height": null,
            "max_width": null,
            "min_height": null,
            "min_width": null,
            "object_fit": null,
            "object_position": null,
            "order": null,
            "overflow": null,
            "overflow_x": null,
            "overflow_y": null,
            "padding": null,
            "right": null,
            "top": null,
            "visibility": null,
            "width": null
          }
        },
        "f062bf0e92a34c5e806ed435d1353c51": {
          "model_module": "@jupyter-widgets/controls",
          "model_name": "DescriptionStyleModel",
          "model_module_version": "1.5.0",
          "state": {
            "_model_module": "@jupyter-widgets/controls",
            "_model_module_version": "1.5.0",
            "_model_name": "DescriptionStyleModel",
            "_view_count": null,
            "_view_module": "@jupyter-widgets/base",
            "_view_module_version": "1.2.0",
            "_view_name": "StyleView",
            "description_width": ""
          }
        },
        "dd73a1bb82ab4771af0e34c534b7cf6c": {
          "model_module": "@jupyter-widgets/base",
          "model_name": "LayoutModel",
          "model_module_version": "1.2.0",
          "state": {
            "_model_module": "@jupyter-widgets/base",
            "_model_module_version": "1.2.0",
            "_model_name": "LayoutModel",
            "_view_count": null,
            "_view_module": "@jupyter-widgets/base",
            "_view_module_version": "1.2.0",
            "_view_name": "LayoutView",
            "align_content": null,
            "align_items": null,
            "align_self": null,
            "border": null,
            "bottom": null,
            "display": null,
            "flex": null,
            "flex_flow": null,
            "grid_area": null,
            "grid_auto_columns": null,
            "grid_auto_flow": null,
            "grid_auto_rows": null,
            "grid_column": null,
            "grid_gap": null,
            "grid_row": null,
            "grid_template_areas": null,
            "grid_template_columns": null,
            "grid_template_rows": null,
            "height": null,
            "justify_content": null,
            "justify_items": null,
            "left": null,
            "margin": null,
            "max_height": null,
            "max_width": null,
            "min_height": null,
            "min_width": null,
            "object_fit": null,
            "object_position": null,
            "order": null,
            "overflow": null,
            "overflow_x": null,
            "overflow_y": null,
            "padding": null,
            "right": null,
            "top": null,
            "visibility": null,
            "width": null
          }
        },
        "74a21387ab6a45d7a48462b2c18a9197": {
          "model_module": "@jupyter-widgets/controls",
          "model_name": "ProgressStyleModel",
          "model_module_version": "1.5.0",
          "state": {
            "_model_module": "@jupyter-widgets/controls",
            "_model_module_version": "1.5.0",
            "_model_name": "ProgressStyleModel",
            "_view_count": null,
            "_view_module": "@jupyter-widgets/base",
            "_view_module_version": "1.2.0",
            "_view_name": "StyleView",
            "bar_color": null,
            "description_width": ""
          }
        },
        "789d569e16024c5b88ba38c40c192ce5": {
          "model_module": "@jupyter-widgets/base",
          "model_name": "LayoutModel",
          "model_module_version": "1.2.0",
          "state": {
            "_model_module": "@jupyter-widgets/base",
            "_model_module_version": "1.2.0",
            "_model_name": "LayoutModel",
            "_view_count": null,
            "_view_module": "@jupyter-widgets/base",
            "_view_module_version": "1.2.0",
            "_view_name": "LayoutView",
            "align_content": null,
            "align_items": null,
            "align_self": null,
            "border": null,
            "bottom": null,
            "display": null,
            "flex": null,
            "flex_flow": null,
            "grid_area": null,
            "grid_auto_columns": null,
            "grid_auto_flow": null,
            "grid_auto_rows": null,
            "grid_column": null,
            "grid_gap": null,
            "grid_row": null,
            "grid_template_areas": null,
            "grid_template_columns": null,
            "grid_template_rows": null,
            "height": null,
            "justify_content": null,
            "justify_items": null,
            "left": null,
            "margin": null,
            "max_height": null,
            "max_width": null,
            "min_height": null,
            "min_width": null,
            "object_fit": null,
            "object_position": null,
            "order": null,
            "overflow": null,
            "overflow_x": null,
            "overflow_y": null,
            "padding": null,
            "right": null,
            "top": null,
            "visibility": null,
            "width": null
          }
        },
        "ec0ad1fbb06f4a96a2ca931681ffc1c1": {
          "model_module": "@jupyter-widgets/controls",
          "model_name": "DescriptionStyleModel",
          "model_module_version": "1.5.0",
          "state": {
            "_model_module": "@jupyter-widgets/controls",
            "_model_module_version": "1.5.0",
            "_model_name": "DescriptionStyleModel",
            "_view_count": null,
            "_view_module": "@jupyter-widgets/base",
            "_view_module_version": "1.2.0",
            "_view_name": "StyleView",
            "description_width": ""
          }
        },
        "d21d7b89c8de4951a92e592bb7aef25d": {
          "model_module": "@jupyter-widgets/controls",
          "model_name": "HBoxModel",
          "model_module_version": "1.5.0",
          "state": {
            "_dom_classes": [],
            "_model_module": "@jupyter-widgets/controls",
            "_model_module_version": "1.5.0",
            "_model_name": "HBoxModel",
            "_view_count": null,
            "_view_module": "@jupyter-widgets/controls",
            "_view_module_version": "1.5.0",
            "_view_name": "HBoxView",
            "box_style": "",
            "children": [
              "IPY_MODEL_8f1e87ba0d0e4d8480716a97322e0022",
              "IPY_MODEL_024d44eee4b84b0c9a1ad6ccba223387",
              "IPY_MODEL_32f254aa4e9e4fe78f435f39a3a4cf07"
            ],
            "layout": "IPY_MODEL_58fe1de4039444bd8720c762d61dff72"
          }
        },
        "8f1e87ba0d0e4d8480716a97322e0022": {
          "model_module": "@jupyter-widgets/controls",
          "model_name": "HTMLModel",
          "model_module_version": "1.5.0",
          "state": {
            "_dom_classes": [],
            "_model_module": "@jupyter-widgets/controls",
            "_model_module_version": "1.5.0",
            "_model_name": "HTMLModel",
            "_view_count": null,
            "_view_module": "@jupyter-widgets/controls",
            "_view_module_version": "1.5.0",
            "_view_name": "HTMLView",
            "description": "",
            "description_tooltip": null,
            "layout": "IPY_MODEL_408d6a8cf0064b92b0fa9d4e519f6fad",
            "placeholder": "​",
            "style": "IPY_MODEL_3005a04658f7478eafefd4ac07625433",
            "value": "vocab.txt: 100%"
          }
        },
        "024d44eee4b84b0c9a1ad6ccba223387": {
          "model_module": "@jupyter-widgets/controls",
          "model_name": "FloatProgressModel",
          "model_module_version": "1.5.0",
          "state": {
            "_dom_classes": [],
            "_model_module": "@jupyter-widgets/controls",
            "_model_module_version": "1.5.0",
            "_model_name": "FloatProgressModel",
            "_view_count": null,
            "_view_module": "@jupyter-widgets/controls",
            "_view_module_version": "1.5.0",
            "_view_name": "ProgressView",
            "bar_style": "success",
            "description": "",
            "description_tooltip": null,
            "layout": "IPY_MODEL_46d9b25c827047d39c6262530482b1e2",
            "max": 231508,
            "min": 0,
            "orientation": "horizontal",
            "style": "IPY_MODEL_48b910028456430c904cdd5fdf1e17fd",
            "value": 231508
          }
        },
        "32f254aa4e9e4fe78f435f39a3a4cf07": {
          "model_module": "@jupyter-widgets/controls",
          "model_name": "HTMLModel",
          "model_module_version": "1.5.0",
          "state": {
            "_dom_classes": [],
            "_model_module": "@jupyter-widgets/controls",
            "_model_module_version": "1.5.0",
            "_model_name": "HTMLModel",
            "_view_count": null,
            "_view_module": "@jupyter-widgets/controls",
            "_view_module_version": "1.5.0",
            "_view_name": "HTMLView",
            "description": "",
            "description_tooltip": null,
            "layout": "IPY_MODEL_1aa52a9eee83410e8bcf90e67fb88bc0",
            "placeholder": "​",
            "style": "IPY_MODEL_8adf9896ca1445539b53a6b1dd4258f9",
            "value": " 232k/232k [00:00&lt;00:00, 2.50MB/s]"
          }
        },
        "58fe1de4039444bd8720c762d61dff72": {
          "model_module": "@jupyter-widgets/base",
          "model_name": "LayoutModel",
          "model_module_version": "1.2.0",
          "state": {
            "_model_module": "@jupyter-widgets/base",
            "_model_module_version": "1.2.0",
            "_model_name": "LayoutModel",
            "_view_count": null,
            "_view_module": "@jupyter-widgets/base",
            "_view_module_version": "1.2.0",
            "_view_name": "LayoutView",
            "align_content": null,
            "align_items": null,
            "align_self": null,
            "border": null,
            "bottom": null,
            "display": null,
            "flex": null,
            "flex_flow": null,
            "grid_area": null,
            "grid_auto_columns": null,
            "grid_auto_flow": null,
            "grid_auto_rows": null,
            "grid_column": null,
            "grid_gap": null,
            "grid_row": null,
            "grid_template_areas": null,
            "grid_template_columns": null,
            "grid_template_rows": null,
            "height": null,
            "justify_content": null,
            "justify_items": null,
            "left": null,
            "margin": null,
            "max_height": null,
            "max_width": null,
            "min_height": null,
            "min_width": null,
            "object_fit": null,
            "object_position": null,
            "order": null,
            "overflow": null,
            "overflow_x": null,
            "overflow_y": null,
            "padding": null,
            "right": null,
            "top": null,
            "visibility": null,
            "width": null
          }
        },
        "408d6a8cf0064b92b0fa9d4e519f6fad": {
          "model_module": "@jupyter-widgets/base",
          "model_name": "LayoutModel",
          "model_module_version": "1.2.0",
          "state": {
            "_model_module": "@jupyter-widgets/base",
            "_model_module_version": "1.2.0",
            "_model_name": "LayoutModel",
            "_view_count": null,
            "_view_module": "@jupyter-widgets/base",
            "_view_module_version": "1.2.0",
            "_view_name": "LayoutView",
            "align_content": null,
            "align_items": null,
            "align_self": null,
            "border": null,
            "bottom": null,
            "display": null,
            "flex": null,
            "flex_flow": null,
            "grid_area": null,
            "grid_auto_columns": null,
            "grid_auto_flow": null,
            "grid_auto_rows": null,
            "grid_column": null,
            "grid_gap": null,
            "grid_row": null,
            "grid_template_areas": null,
            "grid_template_columns": null,
            "grid_template_rows": null,
            "height": null,
            "justify_content": null,
            "justify_items": null,
            "left": null,
            "margin": null,
            "max_height": null,
            "max_width": null,
            "min_height": null,
            "min_width": null,
            "object_fit": null,
            "object_position": null,
            "order": null,
            "overflow": null,
            "overflow_x": null,
            "overflow_y": null,
            "padding": null,
            "right": null,
            "top": null,
            "visibility": null,
            "width": null
          }
        },
        "3005a04658f7478eafefd4ac07625433": {
          "model_module": "@jupyter-widgets/controls",
          "model_name": "DescriptionStyleModel",
          "model_module_version": "1.5.0",
          "state": {
            "_model_module": "@jupyter-widgets/controls",
            "_model_module_version": "1.5.0",
            "_model_name": "DescriptionStyleModel",
            "_view_count": null,
            "_view_module": "@jupyter-widgets/base",
            "_view_module_version": "1.2.0",
            "_view_name": "StyleView",
            "description_width": ""
          }
        },
        "46d9b25c827047d39c6262530482b1e2": {
          "model_module": "@jupyter-widgets/base",
          "model_name": "LayoutModel",
          "model_module_version": "1.2.0",
          "state": {
            "_model_module": "@jupyter-widgets/base",
            "_model_module_version": "1.2.0",
            "_model_name": "LayoutModel",
            "_view_count": null,
            "_view_module": "@jupyter-widgets/base",
            "_view_module_version": "1.2.0",
            "_view_name": "LayoutView",
            "align_content": null,
            "align_items": null,
            "align_self": null,
            "border": null,
            "bottom": null,
            "display": null,
            "flex": null,
            "flex_flow": null,
            "grid_area": null,
            "grid_auto_columns": null,
            "grid_auto_flow": null,
            "grid_auto_rows": null,
            "grid_column": null,
            "grid_gap": null,
            "grid_row": null,
            "grid_template_areas": null,
            "grid_template_columns": null,
            "grid_template_rows": null,
            "height": null,
            "justify_content": null,
            "justify_items": null,
            "left": null,
            "margin": null,
            "max_height": null,
            "max_width": null,
            "min_height": null,
            "min_width": null,
            "object_fit": null,
            "object_position": null,
            "order": null,
            "overflow": null,
            "overflow_x": null,
            "overflow_y": null,
            "padding": null,
            "right": null,
            "top": null,
            "visibility": null,
            "width": null
          }
        },
        "48b910028456430c904cdd5fdf1e17fd": {
          "model_module": "@jupyter-widgets/controls",
          "model_name": "ProgressStyleModel",
          "model_module_version": "1.5.0",
          "state": {
            "_model_module": "@jupyter-widgets/controls",
            "_model_module_version": "1.5.0",
            "_model_name": "ProgressStyleModel",
            "_view_count": null,
            "_view_module": "@jupyter-widgets/base",
            "_view_module_version": "1.2.0",
            "_view_name": "StyleView",
            "bar_color": null,
            "description_width": ""
          }
        },
        "1aa52a9eee83410e8bcf90e67fb88bc0": {
          "model_module": "@jupyter-widgets/base",
          "model_name": "LayoutModel",
          "model_module_version": "1.2.0",
          "state": {
            "_model_module": "@jupyter-widgets/base",
            "_model_module_version": "1.2.0",
            "_model_name": "LayoutModel",
            "_view_count": null,
            "_view_module": "@jupyter-widgets/base",
            "_view_module_version": "1.2.0",
            "_view_name": "LayoutView",
            "align_content": null,
            "align_items": null,
            "align_self": null,
            "border": null,
            "bottom": null,
            "display": null,
            "flex": null,
            "flex_flow": null,
            "grid_area": null,
            "grid_auto_columns": null,
            "grid_auto_flow": null,
            "grid_auto_rows": null,
            "grid_column": null,
            "grid_gap": null,
            "grid_row": null,
            "grid_template_areas": null,
            "grid_template_columns": null,
            "grid_template_rows": null,
            "height": null,
            "justify_content": null,
            "justify_items": null,
            "left": null,
            "margin": null,
            "max_height": null,
            "max_width": null,
            "min_height": null,
            "min_width": null,
            "object_fit": null,
            "object_position": null,
            "order": null,
            "overflow": null,
            "overflow_x": null,
            "overflow_y": null,
            "padding": null,
            "right": null,
            "top": null,
            "visibility": null,
            "width": null
          }
        },
        "8adf9896ca1445539b53a6b1dd4258f9": {
          "model_module": "@jupyter-widgets/controls",
          "model_name": "DescriptionStyleModel",
          "model_module_version": "1.5.0",
          "state": {
            "_model_module": "@jupyter-widgets/controls",
            "_model_module_version": "1.5.0",
            "_model_name": "DescriptionStyleModel",
            "_view_count": null,
            "_view_module": "@jupyter-widgets/base",
            "_view_module_version": "1.2.0",
            "_view_name": "StyleView",
            "description_width": ""
          }
        },
        "6a772dfc5e8b48dd9c06e3e782cd3fe2": {
          "model_module": "@jupyter-widgets/controls",
          "model_name": "HBoxModel",
          "model_module_version": "1.5.0",
          "state": {
            "_dom_classes": [],
            "_model_module": "@jupyter-widgets/controls",
            "_model_module_version": "1.5.0",
            "_model_name": "HBoxModel",
            "_view_count": null,
            "_view_module": "@jupyter-widgets/controls",
            "_view_module_version": "1.5.0",
            "_view_name": "HBoxView",
            "box_style": "",
            "children": [
              "IPY_MODEL_a70ec4aeaab643b187de613ab8e6f582",
              "IPY_MODEL_22f8ace16e994593aca1df0a83778e9a",
              "IPY_MODEL_8f6ea87c36ea453390298c5ef5ca806f"
            ],
            "layout": "IPY_MODEL_d996a5b660f8487cbe243f2886dd7e97"
          }
        },
        "a70ec4aeaab643b187de613ab8e6f582": {
          "model_module": "@jupyter-widgets/controls",
          "model_name": "HTMLModel",
          "model_module_version": "1.5.0",
          "state": {
            "_dom_classes": [],
            "_model_module": "@jupyter-widgets/controls",
            "_model_module_version": "1.5.0",
            "_model_name": "HTMLModel",
            "_view_count": null,
            "_view_module": "@jupyter-widgets/controls",
            "_view_module_version": "1.5.0",
            "_view_name": "HTMLView",
            "description": "",
            "description_tooltip": null,
            "layout": "IPY_MODEL_75ceb080469d4c7e9e589a4961b23d79",
            "placeholder": "​",
            "style": "IPY_MODEL_095c570509a542bd8e180c17f658fd68",
            "value": "tokenizer.json: 100%"
          }
        },
        "22f8ace16e994593aca1df0a83778e9a": {
          "model_module": "@jupyter-widgets/controls",
          "model_name": "FloatProgressModel",
          "model_module_version": "1.5.0",
          "state": {
            "_dom_classes": [],
            "_model_module": "@jupyter-widgets/controls",
            "_model_module_version": "1.5.0",
            "_model_name": "FloatProgressModel",
            "_view_count": null,
            "_view_module": "@jupyter-widgets/controls",
            "_view_module_version": "1.5.0",
            "_view_name": "ProgressView",
            "bar_style": "success",
            "description": "",
            "description_tooltip": null,
            "layout": "IPY_MODEL_e27e84d5e3784918a3a2ca11d1fac3e0",
            "max": 466062,
            "min": 0,
            "orientation": "horizontal",
            "style": "IPY_MODEL_2f1486acdb1840bfae5a8d6da65c6139",
            "value": 466062
          }
        },
        "8f6ea87c36ea453390298c5ef5ca806f": {
          "model_module": "@jupyter-widgets/controls",
          "model_name": "HTMLModel",
          "model_module_version": "1.5.0",
          "state": {
            "_dom_classes": [],
            "_model_module": "@jupyter-widgets/controls",
            "_model_module_version": "1.5.0",
            "_model_name": "HTMLModel",
            "_view_count": null,
            "_view_module": "@jupyter-widgets/controls",
            "_view_module_version": "1.5.0",
            "_view_name": "HTMLView",
            "description": "",
            "description_tooltip": null,
            "layout": "IPY_MODEL_16acfacbd4994434a4d32c1a64643067",
            "placeholder": "​",
            "style": "IPY_MODEL_0831d220219647dcb9082e6132d7a001",
            "value": " 466k/466k [00:00&lt;00:00, 6.58MB/s]"
          }
        },
        "d996a5b660f8487cbe243f2886dd7e97": {
          "model_module": "@jupyter-widgets/base",
          "model_name": "LayoutModel",
          "model_module_version": "1.2.0",
          "state": {
            "_model_module": "@jupyter-widgets/base",
            "_model_module_version": "1.2.0",
            "_model_name": "LayoutModel",
            "_view_count": null,
            "_view_module": "@jupyter-widgets/base",
            "_view_module_version": "1.2.0",
            "_view_name": "LayoutView",
            "align_content": null,
            "align_items": null,
            "align_self": null,
            "border": null,
            "bottom": null,
            "display": null,
            "flex": null,
            "flex_flow": null,
            "grid_area": null,
            "grid_auto_columns": null,
            "grid_auto_flow": null,
            "grid_auto_rows": null,
            "grid_column": null,
            "grid_gap": null,
            "grid_row": null,
            "grid_template_areas": null,
            "grid_template_columns": null,
            "grid_template_rows": null,
            "height": null,
            "justify_content": null,
            "justify_items": null,
            "left": null,
            "margin": null,
            "max_height": null,
            "max_width": null,
            "min_height": null,
            "min_width": null,
            "object_fit": null,
            "object_position": null,
            "order": null,
            "overflow": null,
            "overflow_x": null,
            "overflow_y": null,
            "padding": null,
            "right": null,
            "top": null,
            "visibility": null,
            "width": null
          }
        },
        "75ceb080469d4c7e9e589a4961b23d79": {
          "model_module": "@jupyter-widgets/base",
          "model_name": "LayoutModel",
          "model_module_version": "1.2.0",
          "state": {
            "_model_module": "@jupyter-widgets/base",
            "_model_module_version": "1.2.0",
            "_model_name": "LayoutModel",
            "_view_count": null,
            "_view_module": "@jupyter-widgets/base",
            "_view_module_version": "1.2.0",
            "_view_name": "LayoutView",
            "align_content": null,
            "align_items": null,
            "align_self": null,
            "border": null,
            "bottom": null,
            "display": null,
            "flex": null,
            "flex_flow": null,
            "grid_area": null,
            "grid_auto_columns": null,
            "grid_auto_flow": null,
            "grid_auto_rows": null,
            "grid_column": null,
            "grid_gap": null,
            "grid_row": null,
            "grid_template_areas": null,
            "grid_template_columns": null,
            "grid_template_rows": null,
            "height": null,
            "justify_content": null,
            "justify_items": null,
            "left": null,
            "margin": null,
            "max_height": null,
            "max_width": null,
            "min_height": null,
            "min_width": null,
            "object_fit": null,
            "object_position": null,
            "order": null,
            "overflow": null,
            "overflow_x": null,
            "overflow_y": null,
            "padding": null,
            "right": null,
            "top": null,
            "visibility": null,
            "width": null
          }
        },
        "095c570509a542bd8e180c17f658fd68": {
          "model_module": "@jupyter-widgets/controls",
          "model_name": "DescriptionStyleModel",
          "model_module_version": "1.5.0",
          "state": {
            "_model_module": "@jupyter-widgets/controls",
            "_model_module_version": "1.5.0",
            "_model_name": "DescriptionStyleModel",
            "_view_count": null,
            "_view_module": "@jupyter-widgets/base",
            "_view_module_version": "1.2.0",
            "_view_name": "StyleView",
            "description_width": ""
          }
        },
        "e27e84d5e3784918a3a2ca11d1fac3e0": {
          "model_module": "@jupyter-widgets/base",
          "model_name": "LayoutModel",
          "model_module_version": "1.2.0",
          "state": {
            "_model_module": "@jupyter-widgets/base",
            "_model_module_version": "1.2.0",
            "_model_name": "LayoutModel",
            "_view_count": null,
            "_view_module": "@jupyter-widgets/base",
            "_view_module_version": "1.2.0",
            "_view_name": "LayoutView",
            "align_content": null,
            "align_items": null,
            "align_self": null,
            "border": null,
            "bottom": null,
            "display": null,
            "flex": null,
            "flex_flow": null,
            "grid_area": null,
            "grid_auto_columns": null,
            "grid_auto_flow": null,
            "grid_auto_rows": null,
            "grid_column": null,
            "grid_gap": null,
            "grid_row": null,
            "grid_template_areas": null,
            "grid_template_columns": null,
            "grid_template_rows": null,
            "height": null,
            "justify_content": null,
            "justify_items": null,
            "left": null,
            "margin": null,
            "max_height": null,
            "max_width": null,
            "min_height": null,
            "min_width": null,
            "object_fit": null,
            "object_position": null,
            "order": null,
            "overflow": null,
            "overflow_x": null,
            "overflow_y": null,
            "padding": null,
            "right": null,
            "top": null,
            "visibility": null,
            "width": null
          }
        },
        "2f1486acdb1840bfae5a8d6da65c6139": {
          "model_module": "@jupyter-widgets/controls",
          "model_name": "ProgressStyleModel",
          "model_module_version": "1.5.0",
          "state": {
            "_model_module": "@jupyter-widgets/controls",
            "_model_module_version": "1.5.0",
            "_model_name": "ProgressStyleModel",
            "_view_count": null,
            "_view_module": "@jupyter-widgets/base",
            "_view_module_version": "1.2.0",
            "_view_name": "StyleView",
            "bar_color": null,
            "description_width": ""
          }
        },
        "16acfacbd4994434a4d32c1a64643067": {
          "model_module": "@jupyter-widgets/base",
          "model_name": "LayoutModel",
          "model_module_version": "1.2.0",
          "state": {
            "_model_module": "@jupyter-widgets/base",
            "_model_module_version": "1.2.0",
            "_model_name": "LayoutModel",
            "_view_count": null,
            "_view_module": "@jupyter-widgets/base",
            "_view_module_version": "1.2.0",
            "_view_name": "LayoutView",
            "align_content": null,
            "align_items": null,
            "align_self": null,
            "border": null,
            "bottom": null,
            "display": null,
            "flex": null,
            "flex_flow": null,
            "grid_area": null,
            "grid_auto_columns": null,
            "grid_auto_flow": null,
            "grid_auto_rows": null,
            "grid_column": null,
            "grid_gap": null,
            "grid_row": null,
            "grid_template_areas": null,
            "grid_template_columns": null,
            "grid_template_rows": null,
            "height": null,
            "justify_content": null,
            "justify_items": null,
            "left": null,
            "margin": null,
            "max_height": null,
            "max_width": null,
            "min_height": null,
            "min_width": null,
            "object_fit": null,
            "object_position": null,
            "order": null,
            "overflow": null,
            "overflow_x": null,
            "overflow_y": null,
            "padding": null,
            "right": null,
            "top": null,
            "visibility": null,
            "width": null
          }
        },
        "0831d220219647dcb9082e6132d7a001": {
          "model_module": "@jupyter-widgets/controls",
          "model_name": "DescriptionStyleModel",
          "model_module_version": "1.5.0",
          "state": {
            "_model_module": "@jupyter-widgets/controls",
            "_model_module_version": "1.5.0",
            "_model_name": "DescriptionStyleModel",
            "_view_count": null,
            "_view_module": "@jupyter-widgets/base",
            "_view_module_version": "1.2.0",
            "_view_name": "StyleView",
            "description_width": ""
          }
        },
        "5e30073c9e51403a9bdb124df0e16b80": {
          "model_module": "@jupyter-widgets/controls",
          "model_name": "HBoxModel",
          "model_module_version": "1.5.0",
          "state": {
            "_dom_classes": [],
            "_model_module": "@jupyter-widgets/controls",
            "_model_module_version": "1.5.0",
            "_model_name": "HBoxModel",
            "_view_count": null,
            "_view_module": "@jupyter-widgets/controls",
            "_view_module_version": "1.5.0",
            "_view_name": "HBoxView",
            "box_style": "",
            "children": [
              "IPY_MODEL_727a4cd69cde467eb72ca81207dd3d9e",
              "IPY_MODEL_e05aaba8eb4f43a2bdf6b4978b82d567",
              "IPY_MODEL_7fb4bef961ce4498859c1025d00729b3"
            ],
            "layout": "IPY_MODEL_7ef43de2471949e088e16141aeccd858"
          }
        },
        "727a4cd69cde467eb72ca81207dd3d9e": {
          "model_module": "@jupyter-widgets/controls",
          "model_name": "HTMLModel",
          "model_module_version": "1.5.0",
          "state": {
            "_dom_classes": [],
            "_model_module": "@jupyter-widgets/controls",
            "_model_module_version": "1.5.0",
            "_model_name": "HTMLModel",
            "_view_count": null,
            "_view_module": "@jupyter-widgets/controls",
            "_view_module_version": "1.5.0",
            "_view_name": "HTMLView",
            "description": "",
            "description_tooltip": null,
            "layout": "IPY_MODEL_81d81c8d35f340c085e3c59b0e1ff65c",
            "placeholder": "​",
            "style": "IPY_MODEL_d09d4cd34350445e8e1d8e22c1960c58",
            "value": "model.safetensors: 100%"
          }
        },
        "e05aaba8eb4f43a2bdf6b4978b82d567": {
          "model_module": "@jupyter-widgets/controls",
          "model_name": "FloatProgressModel",
          "model_module_version": "1.5.0",
          "state": {
            "_dom_classes": [],
            "_model_module": "@jupyter-widgets/controls",
            "_model_module_version": "1.5.0",
            "_model_name": "FloatProgressModel",
            "_view_count": null,
            "_view_module": "@jupyter-widgets/controls",
            "_view_module_version": "1.5.0",
            "_view_name": "ProgressView",
            "bar_style": "success",
            "description": "",
            "description_tooltip": null,
            "layout": "IPY_MODEL_9153997561f2404fafff4a254a29145c",
            "max": 267954768,
            "min": 0,
            "orientation": "horizontal",
            "style": "IPY_MODEL_10e1b04099e54cc7bf50d1ebf4120f6d",
            "value": 267954768
          }
        },
        "7fb4bef961ce4498859c1025d00729b3": {
          "model_module": "@jupyter-widgets/controls",
          "model_name": "HTMLModel",
          "model_module_version": "1.5.0",
          "state": {
            "_dom_classes": [],
            "_model_module": "@jupyter-widgets/controls",
            "_model_module_version": "1.5.0",
            "_model_name": "HTMLModel",
            "_view_count": null,
            "_view_module": "@jupyter-widgets/controls",
            "_view_module_version": "1.5.0",
            "_view_name": "HTMLView",
            "description": "",
            "description_tooltip": null,
            "layout": "IPY_MODEL_5aa362917d1e48fa822efc074a78e3b3",
            "placeholder": "​",
            "style": "IPY_MODEL_0386d7b4ca87451e92de08ce83371e57",
            "value": " 268M/268M [00:03&lt;00:00, 98.8MB/s]"
          }
        },
        "7ef43de2471949e088e16141aeccd858": {
          "model_module": "@jupyter-widgets/base",
          "model_name": "LayoutModel",
          "model_module_version": "1.2.0",
          "state": {
            "_model_module": "@jupyter-widgets/base",
            "_model_module_version": "1.2.0",
            "_model_name": "LayoutModel",
            "_view_count": null,
            "_view_module": "@jupyter-widgets/base",
            "_view_module_version": "1.2.0",
            "_view_name": "LayoutView",
            "align_content": null,
            "align_items": null,
            "align_self": null,
            "border": null,
            "bottom": null,
            "display": null,
            "flex": null,
            "flex_flow": null,
            "grid_area": null,
            "grid_auto_columns": null,
            "grid_auto_flow": null,
            "grid_auto_rows": null,
            "grid_column": null,
            "grid_gap": null,
            "grid_row": null,
            "grid_template_areas": null,
            "grid_template_columns": null,
            "grid_template_rows": null,
            "height": null,
            "justify_content": null,
            "justify_items": null,
            "left": null,
            "margin": null,
            "max_height": null,
            "max_width": null,
            "min_height": null,
            "min_width": null,
            "object_fit": null,
            "object_position": null,
            "order": null,
            "overflow": null,
            "overflow_x": null,
            "overflow_y": null,
            "padding": null,
            "right": null,
            "top": null,
            "visibility": null,
            "width": null
          }
        },
        "81d81c8d35f340c085e3c59b0e1ff65c": {
          "model_module": "@jupyter-widgets/base",
          "model_name": "LayoutModel",
          "model_module_version": "1.2.0",
          "state": {
            "_model_module": "@jupyter-widgets/base",
            "_model_module_version": "1.2.0",
            "_model_name": "LayoutModel",
            "_view_count": null,
            "_view_module": "@jupyter-widgets/base",
            "_view_module_version": "1.2.0",
            "_view_name": "LayoutView",
            "align_content": null,
            "align_items": null,
            "align_self": null,
            "border": null,
            "bottom": null,
            "display": null,
            "flex": null,
            "flex_flow": null,
            "grid_area": null,
            "grid_auto_columns": null,
            "grid_auto_flow": null,
            "grid_auto_rows": null,
            "grid_column": null,
            "grid_gap": null,
            "grid_row": null,
            "grid_template_areas": null,
            "grid_template_columns": null,
            "grid_template_rows": null,
            "height": null,
            "justify_content": null,
            "justify_items": null,
            "left": null,
            "margin": null,
            "max_height": null,
            "max_width": null,
            "min_height": null,
            "min_width": null,
            "object_fit": null,
            "object_position": null,
            "order": null,
            "overflow": null,
            "overflow_x": null,
            "overflow_y": null,
            "padding": null,
            "right": null,
            "top": null,
            "visibility": null,
            "width": null
          }
        },
        "d09d4cd34350445e8e1d8e22c1960c58": {
          "model_module": "@jupyter-widgets/controls",
          "model_name": "DescriptionStyleModel",
          "model_module_version": "1.5.0",
          "state": {
            "_model_module": "@jupyter-widgets/controls",
            "_model_module_version": "1.5.0",
            "_model_name": "DescriptionStyleModel",
            "_view_count": null,
            "_view_module": "@jupyter-widgets/base",
            "_view_module_version": "1.2.0",
            "_view_name": "StyleView",
            "description_width": ""
          }
        },
        "9153997561f2404fafff4a254a29145c": {
          "model_module": "@jupyter-widgets/base",
          "model_name": "LayoutModel",
          "model_module_version": "1.2.0",
          "state": {
            "_model_module": "@jupyter-widgets/base",
            "_model_module_version": "1.2.0",
            "_model_name": "LayoutModel",
            "_view_count": null,
            "_view_module": "@jupyter-widgets/base",
            "_view_module_version": "1.2.0",
            "_view_name": "LayoutView",
            "align_content": null,
            "align_items": null,
            "align_self": null,
            "border": null,
            "bottom": null,
            "display": null,
            "flex": null,
            "flex_flow": null,
            "grid_area": null,
            "grid_auto_columns": null,
            "grid_auto_flow": null,
            "grid_auto_rows": null,
            "grid_column": null,
            "grid_gap": null,
            "grid_row": null,
            "grid_template_areas": null,
            "grid_template_columns": null,
            "grid_template_rows": null,
            "height": null,
            "justify_content": null,
            "justify_items": null,
            "left": null,
            "margin": null,
            "max_height": null,
            "max_width": null,
            "min_height": null,
            "min_width": null,
            "object_fit": null,
            "object_position": null,
            "order": null,
            "overflow": null,
            "overflow_x": null,
            "overflow_y": null,
            "padding": null,
            "right": null,
            "top": null,
            "visibility": null,
            "width": null
          }
        },
        "10e1b04099e54cc7bf50d1ebf4120f6d": {
          "model_module": "@jupyter-widgets/controls",
          "model_name": "ProgressStyleModel",
          "model_module_version": "1.5.0",
          "state": {
            "_model_module": "@jupyter-widgets/controls",
            "_model_module_version": "1.5.0",
            "_model_name": "ProgressStyleModel",
            "_view_count": null,
            "_view_module": "@jupyter-widgets/base",
            "_view_module_version": "1.2.0",
            "_view_name": "StyleView",
            "bar_color": null,
            "description_width": ""
          }
        },
        "5aa362917d1e48fa822efc074a78e3b3": {
          "model_module": "@jupyter-widgets/base",
          "model_name": "LayoutModel",
          "model_module_version": "1.2.0",
          "state": {
            "_model_module": "@jupyter-widgets/base",
            "_model_module_version": "1.2.0",
            "_model_name": "LayoutModel",
            "_view_count": null,
            "_view_module": "@jupyter-widgets/base",
            "_view_module_version": "1.2.0",
            "_view_name": "LayoutView",
            "align_content": null,
            "align_items": null,
            "align_self": null,
            "border": null,
            "bottom": null,
            "display": null,
            "flex": null,
            "flex_flow": null,
            "grid_area": null,
            "grid_auto_columns": null,
            "grid_auto_flow": null,
            "grid_auto_rows": null,
            "grid_column": null,
            "grid_gap": null,
            "grid_row": null,
            "grid_template_areas": null,
            "grid_template_columns": null,
            "grid_template_rows": null,
            "height": null,
            "justify_content": null,
            "justify_items": null,
            "left": null,
            "margin": null,
            "max_height": null,
            "max_width": null,
            "min_height": null,
            "min_width": null,
            "object_fit": null,
            "object_position": null,
            "order": null,
            "overflow": null,
            "overflow_x": null,
            "overflow_y": null,
            "padding": null,
            "right": null,
            "top": null,
            "visibility": null,
            "width": null
          }
        },
        "0386d7b4ca87451e92de08ce83371e57": {
          "model_module": "@jupyter-widgets/controls",
          "model_name": "DescriptionStyleModel",
          "model_module_version": "1.5.0",
          "state": {
            "_model_module": "@jupyter-widgets/controls",
            "_model_module_version": "1.5.0",
            "_model_name": "DescriptionStyleModel",
            "_view_count": null,
            "_view_module": "@jupyter-widgets/base",
            "_view_module_version": "1.2.0",
            "_view_name": "StyleView",
            "description_width": ""
          }
        },
        "7e6aa2d62843463d90857bccdef03517": {
          "model_module": "@jupyter-widgets/controls",
          "model_name": "HBoxModel",
          "model_module_version": "1.5.0",
          "state": {
            "_dom_classes": [],
            "_model_module": "@jupyter-widgets/controls",
            "_model_module_version": "1.5.0",
            "_model_name": "HBoxModel",
            "_view_count": null,
            "_view_module": "@jupyter-widgets/controls",
            "_view_module_version": "1.5.0",
            "_view_name": "HBoxView",
            "box_style": "",
            "children": [
              "IPY_MODEL_b6f96e5062c84f399938d49e0e096324",
              "IPY_MODEL_8dfaa946b240437085b4e18e14d9d4fa",
              "IPY_MODEL_9f15b41c22444e18acde951312894a42"
            ],
            "layout": "IPY_MODEL_85ac9263fa8d45619919256028927515"
          }
        },
        "b6f96e5062c84f399938d49e0e096324": {
          "model_module": "@jupyter-widgets/controls",
          "model_name": "HTMLModel",
          "model_module_version": "1.5.0",
          "state": {
            "_dom_classes": [],
            "_model_module": "@jupyter-widgets/controls",
            "_model_module_version": "1.5.0",
            "_model_name": "HTMLModel",
            "_view_count": null,
            "_view_module": "@jupyter-widgets/controls",
            "_view_module_version": "1.5.0",
            "_view_name": "HTMLView",
            "description": "",
            "description_tooltip": null,
            "layout": "IPY_MODEL_f10b3dfc81504883b88c170b6c4f80a1",
            "placeholder": "​",
            "style": "IPY_MODEL_97ccc2326d454bcfa61665fbf0d729f9",
            "value": "100%"
          }
        },
        "8dfaa946b240437085b4e18e14d9d4fa": {
          "model_module": "@jupyter-widgets/controls",
          "model_name": "FloatProgressModel",
          "model_module_version": "1.5.0",
          "state": {
            "_dom_classes": [],
            "_model_module": "@jupyter-widgets/controls",
            "_model_module_version": "1.5.0",
            "_model_name": "FloatProgressModel",
            "_view_count": null,
            "_view_module": "@jupyter-widgets/controls",
            "_view_module_version": "1.5.0",
            "_view_name": "ProgressView",
            "bar_style": "success",
            "description": "",
            "description_tooltip": null,
            "layout": "IPY_MODEL_e47b5718dd8940549a1198448543d571",
            "max": 4000,
            "min": 0,
            "orientation": "horizontal",
            "style": "IPY_MODEL_0a4c04d20b2a42ffa13bce0cb67b088b",
            "value": 4000
          }
        },
        "9f15b41c22444e18acde951312894a42": {
          "model_module": "@jupyter-widgets/controls",
          "model_name": "HTMLModel",
          "model_module_version": "1.5.0",
          "state": {
            "_dom_classes": [],
            "_model_module": "@jupyter-widgets/controls",
            "_model_module_version": "1.5.0",
            "_model_name": "HTMLModel",
            "_view_count": null,
            "_view_module": "@jupyter-widgets/controls",
            "_view_module_version": "1.5.0",
            "_view_name": "HTMLView",
            "description": "",
            "description_tooltip": null,
            "layout": "IPY_MODEL_6caced537f2448c9ae86e62cc0276d2e",
            "placeholder": "​",
            "style": "IPY_MODEL_97de668485a24e0983f04ec79288a2fa",
            "value": " 4000/4000 [06:52&lt;00:00, 13.36it/s]"
          }
        },
        "85ac9263fa8d45619919256028927515": {
          "model_module": "@jupyter-widgets/base",
          "model_name": "LayoutModel",
          "model_module_version": "1.2.0",
          "state": {
            "_model_module": "@jupyter-widgets/base",
            "_model_module_version": "1.2.0",
            "_model_name": "LayoutModel",
            "_view_count": null,
            "_view_module": "@jupyter-widgets/base",
            "_view_module_version": "1.2.0",
            "_view_name": "LayoutView",
            "align_content": null,
            "align_items": null,
            "align_self": null,
            "border": null,
            "bottom": null,
            "display": null,
            "flex": null,
            "flex_flow": null,
            "grid_area": null,
            "grid_auto_columns": null,
            "grid_auto_flow": null,
            "grid_auto_rows": null,
            "grid_column": null,
            "grid_gap": null,
            "grid_row": null,
            "grid_template_areas": null,
            "grid_template_columns": null,
            "grid_template_rows": null,
            "height": null,
            "justify_content": null,
            "justify_items": null,
            "left": null,
            "margin": null,
            "max_height": null,
            "max_width": null,
            "min_height": null,
            "min_width": null,
            "object_fit": null,
            "object_position": null,
            "order": null,
            "overflow": null,
            "overflow_x": null,
            "overflow_y": null,
            "padding": null,
            "right": null,
            "top": null,
            "visibility": null,
            "width": null
          }
        },
        "f10b3dfc81504883b88c170b6c4f80a1": {
          "model_module": "@jupyter-widgets/base",
          "model_name": "LayoutModel",
          "model_module_version": "1.2.0",
          "state": {
            "_model_module": "@jupyter-widgets/base",
            "_model_module_version": "1.2.0",
            "_model_name": "LayoutModel",
            "_view_count": null,
            "_view_module": "@jupyter-widgets/base",
            "_view_module_version": "1.2.0",
            "_view_name": "LayoutView",
            "align_content": null,
            "align_items": null,
            "align_self": null,
            "border": null,
            "bottom": null,
            "display": null,
            "flex": null,
            "flex_flow": null,
            "grid_area": null,
            "grid_auto_columns": null,
            "grid_auto_flow": null,
            "grid_auto_rows": null,
            "grid_column": null,
            "grid_gap": null,
            "grid_row": null,
            "grid_template_areas": null,
            "grid_template_columns": null,
            "grid_template_rows": null,
            "height": null,
            "justify_content": null,
            "justify_items": null,
            "left": null,
            "margin": null,
            "max_height": null,
            "max_width": null,
            "min_height": null,
            "min_width": null,
            "object_fit": null,
            "object_position": null,
            "order": null,
            "overflow": null,
            "overflow_x": null,
            "overflow_y": null,
            "padding": null,
            "right": null,
            "top": null,
            "visibility": null,
            "width": null
          }
        },
        "97ccc2326d454bcfa61665fbf0d729f9": {
          "model_module": "@jupyter-widgets/controls",
          "model_name": "DescriptionStyleModel",
          "model_module_version": "1.5.0",
          "state": {
            "_model_module": "@jupyter-widgets/controls",
            "_model_module_version": "1.5.0",
            "_model_name": "DescriptionStyleModel",
            "_view_count": null,
            "_view_module": "@jupyter-widgets/base",
            "_view_module_version": "1.2.0",
            "_view_name": "StyleView",
            "description_width": ""
          }
        },
        "e47b5718dd8940549a1198448543d571": {
          "model_module": "@jupyter-widgets/base",
          "model_name": "LayoutModel",
          "model_module_version": "1.2.0",
          "state": {
            "_model_module": "@jupyter-widgets/base",
            "_model_module_version": "1.2.0",
            "_model_name": "LayoutModel",
            "_view_count": null,
            "_view_module": "@jupyter-widgets/base",
            "_view_module_version": "1.2.0",
            "_view_name": "LayoutView",
            "align_content": null,
            "align_items": null,
            "align_self": null,
            "border": null,
            "bottom": null,
            "display": null,
            "flex": null,
            "flex_flow": null,
            "grid_area": null,
            "grid_auto_columns": null,
            "grid_auto_flow": null,
            "grid_auto_rows": null,
            "grid_column": null,
            "grid_gap": null,
            "grid_row": null,
            "grid_template_areas": null,
            "grid_template_columns": null,
            "grid_template_rows": null,
            "height": null,
            "justify_content": null,
            "justify_items": null,
            "left": null,
            "margin": null,
            "max_height": null,
            "max_width": null,
            "min_height": null,
            "min_width": null,
            "object_fit": null,
            "object_position": null,
            "order": null,
            "overflow": null,
            "overflow_x": null,
            "overflow_y": null,
            "padding": null,
            "right": null,
            "top": null,
            "visibility": null,
            "width": null
          }
        },
        "0a4c04d20b2a42ffa13bce0cb67b088b": {
          "model_module": "@jupyter-widgets/controls",
          "model_name": "ProgressStyleModel",
          "model_module_version": "1.5.0",
          "state": {
            "_model_module": "@jupyter-widgets/controls",
            "_model_module_version": "1.5.0",
            "_model_name": "ProgressStyleModel",
            "_view_count": null,
            "_view_module": "@jupyter-widgets/base",
            "_view_module_version": "1.2.0",
            "_view_name": "StyleView",
            "bar_color": null,
            "description_width": ""
          }
        },
        "6caced537f2448c9ae86e62cc0276d2e": {
          "model_module": "@jupyter-widgets/base",
          "model_name": "LayoutModel",
          "model_module_version": "1.2.0",
          "state": {
            "_model_module": "@jupyter-widgets/base",
            "_model_module_version": "1.2.0",
            "_model_name": "LayoutModel",
            "_view_count": null,
            "_view_module": "@jupyter-widgets/base",
            "_view_module_version": "1.2.0",
            "_view_name": "LayoutView",
            "align_content": null,
            "align_items": null,
            "align_self": null,
            "border": null,
            "bottom": null,
            "display": null,
            "flex": null,
            "flex_flow": null,
            "grid_area": null,
            "grid_auto_columns": null,
            "grid_auto_flow": null,
            "grid_auto_rows": null,
            "grid_column": null,
            "grid_gap": null,
            "grid_row": null,
            "grid_template_areas": null,
            "grid_template_columns": null,
            "grid_template_rows": null,
            "height": null,
            "justify_content": null,
            "justify_items": null,
            "left": null,
            "margin": null,
            "max_height": null,
            "max_width": null,
            "min_height": null,
            "min_width": null,
            "object_fit": null,
            "object_position": null,
            "order": null,
            "overflow": null,
            "overflow_x": null,
            "overflow_y": null,
            "padding": null,
            "right": null,
            "top": null,
            "visibility": null,
            "width": null
          }
        },
        "97de668485a24e0983f04ec79288a2fa": {
          "model_module": "@jupyter-widgets/controls",
          "model_name": "DescriptionStyleModel",
          "model_module_version": "1.5.0",
          "state": {
            "_model_module": "@jupyter-widgets/controls",
            "_model_module_version": "1.5.0",
            "_model_name": "DescriptionStyleModel",
            "_view_count": null,
            "_view_module": "@jupyter-widgets/base",
            "_view_module_version": "1.2.0",
            "_view_name": "StyleView",
            "description_width": ""
          }
        },
        "0bd3dd34b440451c9d67b60fd5e1513a": {
          "model_module": "@jupyter-widgets/controls",
          "model_name": "HBoxModel",
          "model_module_version": "1.5.0",
          "state": {
            "_dom_classes": [],
            "_model_module": "@jupyter-widgets/controls",
            "_model_module_version": "1.5.0",
            "_model_name": "HBoxModel",
            "_view_count": null,
            "_view_module": "@jupyter-widgets/controls",
            "_view_module_version": "1.5.0",
            "_view_name": "HBoxView",
            "box_style": "",
            "children": [
              "IPY_MODEL_d41819570f7f4267843291003f81eb52",
              "IPY_MODEL_7ba22c4d0cec449caf8990ddc616b99e",
              "IPY_MODEL_74aae94ec46648aa85517358132cdb78"
            ],
            "layout": "IPY_MODEL_b6005d95703849d7be5fdc31b7ccce25"
          }
        },
        "d41819570f7f4267843291003f81eb52": {
          "model_module": "@jupyter-widgets/controls",
          "model_name": "HTMLModel",
          "model_module_version": "1.5.0",
          "state": {
            "_dom_classes": [],
            "_model_module": "@jupyter-widgets/controls",
            "_model_module_version": "1.5.0",
            "_model_name": "HTMLModel",
            "_view_count": null,
            "_view_module": "@jupyter-widgets/controls",
            "_view_module_version": "1.5.0",
            "_view_name": "HTMLView",
            "description": "",
            "description_tooltip": null,
            "layout": "IPY_MODEL_e7d8d4ecbb934da08c67284e1bd95779",
            "placeholder": "​",
            "style": "IPY_MODEL_8e66def60e8c41d781af9d73f355c610",
            "value": "100%"
          }
        },
        "7ba22c4d0cec449caf8990ddc616b99e": {
          "model_module": "@jupyter-widgets/controls",
          "model_name": "FloatProgressModel",
          "model_module_version": "1.5.0",
          "state": {
            "_dom_classes": [],
            "_model_module": "@jupyter-widgets/controls",
            "_model_module_version": "1.5.0",
            "_model_name": "FloatProgressModel",
            "_view_count": null,
            "_view_module": "@jupyter-widgets/controls",
            "_view_module_version": "1.5.0",
            "_view_name": "ProgressView",
            "bar_style": "success",
            "description": "",
            "description_tooltip": null,
            "layout": "IPY_MODEL_c719f7b731984b32b1c538a2f47d4fba",
            "max": 1000,
            "min": 0,
            "orientation": "horizontal",
            "style": "IPY_MODEL_d0662aaa2a7d40839b5633c26f8519b8",
            "value": 1000
          }
        },
        "74aae94ec46648aa85517358132cdb78": {
          "model_module": "@jupyter-widgets/controls",
          "model_name": "HTMLModel",
          "model_module_version": "1.5.0",
          "state": {
            "_dom_classes": [],
            "_model_module": "@jupyter-widgets/controls",
            "_model_module_version": "1.5.0",
            "_model_name": "HTMLModel",
            "_view_count": null,
            "_view_module": "@jupyter-widgets/controls",
            "_view_module_version": "1.5.0",
            "_view_name": "HTMLView",
            "description": "",
            "description_tooltip": null,
            "layout": "IPY_MODEL_7d2771191cdd465fb28047ce6a4106d6",
            "placeholder": "​",
            "style": "IPY_MODEL_d2a728d40e514ef99f7588f241d71ad7",
            "value": " 1000/1000 [01:45&lt;00:00,  9.07it/s]"
          }
        },
        "b6005d95703849d7be5fdc31b7ccce25": {
          "model_module": "@jupyter-widgets/base",
          "model_name": "LayoutModel",
          "model_module_version": "1.2.0",
          "state": {
            "_model_module": "@jupyter-widgets/base",
            "_model_module_version": "1.2.0",
            "_model_name": "LayoutModel",
            "_view_count": null,
            "_view_module": "@jupyter-widgets/base",
            "_view_module_version": "1.2.0",
            "_view_name": "LayoutView",
            "align_content": null,
            "align_items": null,
            "align_self": null,
            "border": null,
            "bottom": null,
            "display": null,
            "flex": null,
            "flex_flow": null,
            "grid_area": null,
            "grid_auto_columns": null,
            "grid_auto_flow": null,
            "grid_auto_rows": null,
            "grid_column": null,
            "grid_gap": null,
            "grid_row": null,
            "grid_template_areas": null,
            "grid_template_columns": null,
            "grid_template_rows": null,
            "height": null,
            "justify_content": null,
            "justify_items": null,
            "left": null,
            "margin": null,
            "max_height": null,
            "max_width": null,
            "min_height": null,
            "min_width": null,
            "object_fit": null,
            "object_position": null,
            "order": null,
            "overflow": null,
            "overflow_x": null,
            "overflow_y": null,
            "padding": null,
            "right": null,
            "top": null,
            "visibility": null,
            "width": null
          }
        },
        "e7d8d4ecbb934da08c67284e1bd95779": {
          "model_module": "@jupyter-widgets/base",
          "model_name": "LayoutModel",
          "model_module_version": "1.2.0",
          "state": {
            "_model_module": "@jupyter-widgets/base",
            "_model_module_version": "1.2.0",
            "_model_name": "LayoutModel",
            "_view_count": null,
            "_view_module": "@jupyter-widgets/base",
            "_view_module_version": "1.2.0",
            "_view_name": "LayoutView",
            "align_content": null,
            "align_items": null,
            "align_self": null,
            "border": null,
            "bottom": null,
            "display": null,
            "flex": null,
            "flex_flow": null,
            "grid_area": null,
            "grid_auto_columns": null,
            "grid_auto_flow": null,
            "grid_auto_rows": null,
            "grid_column": null,
            "grid_gap": null,
            "grid_row": null,
            "grid_template_areas": null,
            "grid_template_columns": null,
            "grid_template_rows": null,
            "height": null,
            "justify_content": null,
            "justify_items": null,
            "left": null,
            "margin": null,
            "max_height": null,
            "max_width": null,
            "min_height": null,
            "min_width": null,
            "object_fit": null,
            "object_position": null,
            "order": null,
            "overflow": null,
            "overflow_x": null,
            "overflow_y": null,
            "padding": null,
            "right": null,
            "top": null,
            "visibility": null,
            "width": null
          }
        },
        "8e66def60e8c41d781af9d73f355c610": {
          "model_module": "@jupyter-widgets/controls",
          "model_name": "DescriptionStyleModel",
          "model_module_version": "1.5.0",
          "state": {
            "_model_module": "@jupyter-widgets/controls",
            "_model_module_version": "1.5.0",
            "_model_name": "DescriptionStyleModel",
            "_view_count": null,
            "_view_module": "@jupyter-widgets/base",
            "_view_module_version": "1.2.0",
            "_view_name": "StyleView",
            "description_width": ""
          }
        },
        "c719f7b731984b32b1c538a2f47d4fba": {
          "model_module": "@jupyter-widgets/base",
          "model_name": "LayoutModel",
          "model_module_version": "1.2.0",
          "state": {
            "_model_module": "@jupyter-widgets/base",
            "_model_module_version": "1.2.0",
            "_model_name": "LayoutModel",
            "_view_count": null,
            "_view_module": "@jupyter-widgets/base",
            "_view_module_version": "1.2.0",
            "_view_name": "LayoutView",
            "align_content": null,
            "align_items": null,
            "align_self": null,
            "border": null,
            "bottom": null,
            "display": null,
            "flex": null,
            "flex_flow": null,
            "grid_area": null,
            "grid_auto_columns": null,
            "grid_auto_flow": null,
            "grid_auto_rows": null,
            "grid_column": null,
            "grid_gap": null,
            "grid_row": null,
            "grid_template_areas": null,
            "grid_template_columns": null,
            "grid_template_rows": null,
            "height": null,
            "justify_content": null,
            "justify_items": null,
            "left": null,
            "margin": null,
            "max_height": null,
            "max_width": null,
            "min_height": null,
            "min_width": null,
            "object_fit": null,
            "object_position": null,
            "order": null,
            "overflow": null,
            "overflow_x": null,
            "overflow_y": null,
            "padding": null,
            "right": null,
            "top": null,
            "visibility": null,
            "width": null
          }
        },
        "d0662aaa2a7d40839b5633c26f8519b8": {
          "model_module": "@jupyter-widgets/controls",
          "model_name": "ProgressStyleModel",
          "model_module_version": "1.5.0",
          "state": {
            "_model_module": "@jupyter-widgets/controls",
            "_model_module_version": "1.5.0",
            "_model_name": "ProgressStyleModel",
            "_view_count": null,
            "_view_module": "@jupyter-widgets/base",
            "_view_module_version": "1.2.0",
            "_view_name": "StyleView",
            "bar_color": null,
            "description_width": ""
          }
        },
        "7d2771191cdd465fb28047ce6a4106d6": {
          "model_module": "@jupyter-widgets/base",
          "model_name": "LayoutModel",
          "model_module_version": "1.2.0",
          "state": {
            "_model_module": "@jupyter-widgets/base",
            "_model_module_version": "1.2.0",
            "_model_name": "LayoutModel",
            "_view_count": null,
            "_view_module": "@jupyter-widgets/base",
            "_view_module_version": "1.2.0",
            "_view_name": "LayoutView",
            "align_content": null,
            "align_items": null,
            "align_self": null,
            "border": null,
            "bottom": null,
            "display": null,
            "flex": null,
            "flex_flow": null,
            "grid_area": null,
            "grid_auto_columns": null,
            "grid_auto_flow": null,
            "grid_auto_rows": null,
            "grid_column": null,
            "grid_gap": null,
            "grid_row": null,
            "grid_template_areas": null,
            "grid_template_columns": null,
            "grid_template_rows": null,
            "height": null,
            "justify_content": null,
            "justify_items": null,
            "left": null,
            "margin": null,
            "max_height": null,
            "max_width": null,
            "min_height": null,
            "min_width": null,
            "object_fit": null,
            "object_position": null,
            "order": null,
            "overflow": null,
            "overflow_x": null,
            "overflow_y": null,
            "padding": null,
            "right": null,
            "top": null,
            "visibility": null,
            "width": null
          }
        },
        "d2a728d40e514ef99f7588f241d71ad7": {
          "model_module": "@jupyter-widgets/controls",
          "model_name": "DescriptionStyleModel",
          "model_module_version": "1.5.0",
          "state": {
            "_model_module": "@jupyter-widgets/controls",
            "_model_module_version": "1.5.0",
            "_model_name": "DescriptionStyleModel",
            "_view_count": null,
            "_view_module": "@jupyter-widgets/base",
            "_view_module_version": "1.2.0",
            "_view_name": "StyleView",
            "description_width": ""
          }
        }
      }
    }
  },
  "cells": [
    {
      "cell_type": "code",
      "source": [
        "# What about I compare w2v, glove and BERT encodings on\n",
        "# SVM, shallow 1 layer NN, which is a fancy way of saying logistic regression, a 2 layer NN (1 hidden layer) which theoretically maps any function and BERT"
      ],
      "metadata": {
        "id": "PAp6NGzWh8TI"
      },
      "execution_count": null,
      "outputs": []
    },
    {
      "cell_type": "code",
      "source": [
        "from sklearn.metrics import accuracy_score, confusion_matrix, ConfusionMatrixDisplay\n",
        "from sklearn.model_selection import train_test_split\n",
        "from nltk.tokenize import word_tokenize\n",
        "from matplotlib import pyplot as plt\n",
        "from nltk.stem import PorterStemmer\n",
        "from nltk.corpus import stopwords\n",
        "from tqdm.notebook import tqdm\n",
        "from os import close\n",
        "import numpy as np\n",
        "import smart_open\n",
        "import string\n",
        "import gensim\n",
        "import gdown\n",
        "import json\n",
        "import nltk\n",
        "import re\n",
        "import os"
      ],
      "metadata": {
        "id": "HX6sKmOHeJG8"
      },
      "execution_count": 1,
      "outputs": []
    },
    {
      "cell_type": "code",
      "execution_count": 2,
      "metadata": {
        "colab": {
          "base_uri": "https://localhost:8080/"
        },
        "id": "9j7Gd7snZYA-",
        "outputId": "4e10a431-0cb3-4c6a-842a-403b7be191a3"
      },
      "outputs": [
        {
          "output_type": "stream",
          "name": "stdout",
          "text": [
            "Yelp Reviews already there\n"
          ]
        }
      ],
      "source": [
        "# Get Yelp Dataset\n",
        "fname = '/content/yelp_reviews.json'\n",
        "if not os.path.isfile(fname) :\n",
        "  url = 'https://drive.google.com/uc?id=1CisHuncMbBRAaj7yM8aCBLgBqkIcc0Lu'\n",
        "  output = 'yelp_reviews.json'\n",
        "  gdown.download(url, output, quiet=False)\n",
        "else:\n",
        "  print('Yelp Reviews already there')"
      ]
    },
    {
      "cell_type": "code",
      "source": [
        "#string.punctuation\n",
        "nltk.download('stopwords')\n",
        "nltk.download('wordnet')\n",
        "nltk.download('words')\n",
        "\n",
        "stopword = nltk.corpus.stopwords.words('english')\n",
        "wn = nltk.WordNetLemmatizer()\n",
        "ps = nltk.PorterStemmer()\n",
        "words = set(nltk.corpus.words.words())\n",
        "\n",
        "# Remove punctuations, urls, etc\n",
        "def clean_text(text):\n",
        "  # From the last assignment\n",
        "    text = text.lower()\n",
        "    text = re.sub(r\"http\\S+\", \"\", text)\n",
        "    text = re.sub(r\"www.\\S+\", \"\", text)\n",
        "    text_links_removed = \"\".join([char for char in text if char not in string.punctuation])\n",
        "    text_cleaned = \" \".join([word.strip() for word in re.split('\\W+', text_links_removed)\n",
        "        if word not in stopword])\n",
        "    text = \" \".join([wn.lemmatize(word) for word in re.split('\\W+', text_cleaned)])\n",
        "    return text"
      ],
      "metadata": {
        "colab": {
          "base_uri": "https://localhost:8080/"
        },
        "id": "AqAjJ8L_k6e8",
        "outputId": "1338c3e2-7223-4055-a94f-1506706b195f"
      },
      "execution_count": 3,
      "outputs": [
        {
          "output_type": "stream",
          "name": "stderr",
          "text": [
            "[nltk_data] Downloading package stopwords to /root/nltk_data...\n",
            "[nltk_data]   Package stopwords is already up-to-date!\n",
            "[nltk_data] Downloading package wordnet to /root/nltk_data...\n",
            "[nltk_data]   Package wordnet is already up-to-date!\n",
            "[nltk_data] Downloading package words to /root/nltk_data...\n",
            "[nltk_data]   Package words is already up-to-date!\n"
          ]
        }
      ]
    },
    {
      "cell_type": "code",
      "source": [
        "# Reading N top reviews\n",
        "\n",
        "filepath = '/content/yelp_reviews.json'\n",
        "N_target = 5000\n",
        "N = N_target*10\n",
        "j = 0\n",
        "\n",
        "positive = 0\n",
        "negative = 0\n",
        "\n",
        "X = []\n",
        "y = []\n",
        "with open(filepath) as f:\n",
        "    for i in range(0, N):\n",
        "        json_review = json.loads(f.readline())\n",
        "        if json_review['stars'] == 3:\n",
        "          continue\n",
        "\n",
        "        # Label for classification\n",
        "        if json_review['stars'] in [4,5] and positive <= N_target/2:\n",
        "            label = 1\n",
        "            positive += 1\n",
        "        elif json_review['stars'] in [1,2] and negative <= N_target/2:\n",
        "            label = -1\n",
        "            negative += 1\n",
        "        else:\n",
        "          continue\n",
        "\n",
        "        X.append(clean_text(json_review['text']))\n",
        "        y.append(label)\n",
        "        j+=1\n",
        "\n",
        "        if j == N_target:\n",
        "          break\n",
        "\n",
        "    f.close()\n"
      ],
      "metadata": {
        "id": "lJNgQgmfePmK"
      },
      "execution_count": 4,
      "outputs": []
    },
    {
      "cell_type": "code",
      "source": [
        "X_train, X_test, y_train, y_test = train_test_split(X, y, test_size=0.2, random_state=42)"
      ],
      "metadata": {
        "id": "XIo6vPDrAUP5"
      },
      "execution_count": 5,
      "outputs": []
    },
    {
      "cell_type": "markdown",
      "source": [
        "Doc2Vec Embedding"
      ],
      "metadata": {
        "id": "aUTnO7RTsTUs"
      }
    },
    {
      "cell_type": "code",
      "source": [
        "def read_corpus(corpus, tokens_only=False):\n",
        "    for i, line in enumerate(corpus):\n",
        "        tokens = gensim.utils.simple_preprocess(line)\n",
        "        if tokens_only:\n",
        "            yield tokens\n",
        "        else:\n",
        "            # For training data, add tags\n",
        "            yield gensim.models.doc2vec.TaggedDocument(tokens, [i])"
      ],
      "metadata": {
        "id": "Bszn7DkMhWBL"
      },
      "execution_count": 5,
      "outputs": []
    },
    {
      "cell_type": "code",
      "source": [
        "train_corpus = list(read_corpus(X_train))\n",
        "test_corpus = list(read_corpus(X_test, tokens_only=True))\n",
        "print(len(train_corpus), len(test_corpus))"
      ],
      "metadata": {
        "colab": {
          "base_uri": "https://localhost:8080/"
        },
        "id": "QPlBP6qbkJXH",
        "outputId": "3ed619d1-17b5-4619-b36d-442c98efc997"
      },
      "execution_count": null,
      "outputs": [
        {
          "output_type": "stream",
          "name": "stdout",
          "text": [
            "24000 6000\n"
          ]
        }
      ]
    },
    {
      "cell_type": "code",
      "source": [
        "embedding_model = gensim.models.doc2vec.Doc2Vec(vector_size=50, min_count=2, epochs=40)\n",
        "embedding_model.build_vocab(train_corpus)\n",
        "embedding_model.train(train_corpus, total_examples=embedding_model.corpus_count, epochs=embedding_model.epochs)"
      ],
      "metadata": {
        "id": "8fErNYHJqfMs"
      },
      "execution_count": null,
      "outputs": []
    },
    {
      "cell_type": "code",
      "source": [
        "def embed_corpus(embedding_model, corpus):\n",
        "    embeddings = []\n",
        "    for text in tqdm(corpus, total=len(corpus)):\n",
        "        tokens = gensim.utils.simple_preprocess(text)\n",
        "        embeddings.append(embedding_model.infer_vector(tokens))\n",
        "\n",
        "    return embeddings"
      ],
      "metadata": {
        "id": "ofMfu4fkkkmf"
      },
      "execution_count": null,
      "outputs": []
    },
    {
      "cell_type": "code",
      "source": [
        "embedded_corpus_train = np.array(embed_corpus(embedding_model, X_train))\n",
        "embedded_corpus_test = np.array(embed_corpus(embedding_model, X_test))"
      ],
      "metadata": {
        "colab": {
          "base_uri": "https://localhost:8080/",
          "height": 81,
          "referenced_widgets": [
            "383153b7dc874ee7aa5df5cc1af1b4d3",
            "0f81ae2860c544099d2a234997064998",
            "ecaee8f02e1343c5b26b674a4ae8fb70",
            "2ea3e9c093474d048230bfdb213430be",
            "0242417dd99248c5ac3a3d6681d045eb",
            "1d4acc9bb4314df282ed17ecfc978293",
            "5930c08fc48a44078d90f125a99b6609",
            "4abb078ad756409d96b11fc3dce2c54f",
            "f4e50aa11c7744d1ac0f741ccf472d93",
            "fe6e52073adb40b9b52e57036c3d033e",
            "80a6c04951da466dac332462706c4f0a",
            "cc412b46d9f84ad2b10ad7d88dee0fa6",
            "37ad0929d32141b6b5bce84a4dec44fe",
            "b4bd5a9afb7e42daae87c03b6a21ff15",
            "f05d5c3fb9c54644b33f0465f80451d9",
            "55a243eaca0b4f738bbbbff17c541834",
            "bcff81b45df74f079eb9d730d895383c",
            "632c00fbab334020919dbcff0a07b886",
            "363d2a12a8214ca5a383ba6bbf51f10c",
            "98a0967c990b47c48924fa41d4005705",
            "ce250b1b20244303bbaf5858fd480d98",
            "baeff5e2117d4abbbe4a46958b2c559d"
          ]
        },
        "id": "PoVl1TLvtbg1",
        "outputId": "736e3478-1947-4f58-be06-fc6cd333d469"
      },
      "execution_count": null,
      "outputs": [
        {
          "output_type": "display_data",
          "data": {
            "text/plain": [
              "  0%|          | 0/24000 [00:00<?, ?it/s]"
            ],
            "application/vnd.jupyter.widget-view+json": {
              "version_major": 2,
              "version_minor": 0,
              "model_id": "383153b7dc874ee7aa5df5cc1af1b4d3"
            }
          },
          "metadata": {}
        },
        {
          "output_type": "display_data",
          "data": {
            "text/plain": [
              "  0%|          | 0/6000 [00:00<?, ?it/s]"
            ],
            "application/vnd.jupyter.widget-view+json": {
              "version_major": 2,
              "version_minor": 0,
              "model_id": "cc412b46d9f84ad2b10ad7d88dee0fa6"
            }
          },
          "metadata": {}
        }
      ]
    },
    {
      "cell_type": "markdown",
      "source": [
        "SVM"
      ],
      "metadata": {
        "id": "WM6SG5d0ugJg"
      }
    },
    {
      "cell_type": "code",
      "source": [
        "from sklearn import svm"
      ],
      "metadata": {
        "id": "dSJNv90Q1qHI"
      },
      "execution_count": 21,
      "outputs": []
    },
    {
      "cell_type": "code",
      "source": [
        "def train_test_display(clf, embedded_corpus_train, y_train, embedded_corpus_test, y_test, model_type):\n",
        "    clf.fit(embedded_corpus_train, y_train)\n",
        "    y_preds_train = clf.predict(embedded_corpus_train)\n",
        "    y_preds_test = clf.predict(embedded_corpus_test)\n",
        "\n",
        "    accuracy_train = accuracy_score(y_train, y_preds_train)\n",
        "    accuracy_test = accuracy_score(y_test, y_preds_test)\n",
        "\n",
        "    confusion_matrix_train = confusion_matrix(y_train, y_preds_train)\n",
        "    confusion_matrix_test = confusion_matrix(y_test, y_preds_test)\n",
        "\n",
        "    fig, ax = plt.subplots(1,2, figsize=(15,5))\n",
        "    cmp_train = ConfusionMatrixDisplay(confusion_matrix=confusion_matrix_train,display_labels=clf.classes_)\n",
        "    cmp_train.plot(ax=ax[0])\n",
        "    ax[0].set_title(f'Training Data \\n{model_type} Accuracy: {accuracy_train}', fontsize=20)\n",
        "\n",
        "    cmp_test = ConfusionMatrixDisplay(confusion_matrix=confusion_matrix_test,display_labels=clf.classes_)\n",
        "    cmp_test.plot(ax=ax[1])\n",
        "    ax[1].set_title(f'Testing Data \\n{model_type} Accuracy: {accuracy_test}', fontsize=20)\n",
        "\n",
        "    plt.show()\n",
        "\n",
        "    return y_preds_train, y_preds_test, accuracy_train, accuracy_test, confusion_matrix_train, confusion_matrix_test\n"
      ],
      "metadata": {
        "id": "BrhhwH6Jy5sm"
      },
      "execution_count": 47,
      "outputs": []
    },
    {
      "cell_type": "code",
      "source": [
        "# Create model and fit using training embeddings\n",
        "clf = svm.SVC()\n",
        "y_preds_train, y_preds_test, accuracy_train, accuracy_test, confusion_matrix_train, confusion_matrix_test = train_test_display(clf, embedded_corpus_train, y_train, embedded_corpus_test, y_test,'Doc2Vec SVM')"
      ],
      "metadata": {
        "colab": {
          "base_uri": "https://localhost:8080/",
          "height": 508
        },
        "id": "YiIK8lCEtbdx",
        "outputId": "22bf45cd-8072-4c7a-dce8-0b6340e758a2"
      },
      "execution_count": null,
      "outputs": [
        {
          "output_type": "display_data",
          "data": {
            "text/plain": [
              "<Figure size 1500x500 with 4 Axes>"
            ],
            "image/png": "[encoded data removed]"
          },
          "metadata": {}
        }
      ]
    },
    {
      "cell_type": "markdown",
      "source": [
        "Logistic Regression"
      ],
      "metadata": {
        "id": "hZ2RTPJKy1mi"
      }
    },
    {
      "cell_type": "code",
      "source": [
        "from sklearn.linear_model import LogisticRegression"
      ],
      "metadata": {
        "id": "DUELv7He1wDe"
      },
      "execution_count": 22,
      "outputs": []
    },
    {
      "cell_type": "code",
      "source": [
        "clf = LogisticRegression(random_state=0)\n",
        "y_preds_train, y_preds_test, accuracy_train, accuracy_test, confusion_matrix_train, confusion_matrix_test = train_test_display(clf, embedded_corpus_train, y_train, embedded_corpus_test, y_test,'Doc2Vec Logistic Regression')"
      ],
      "metadata": {
        "colab": {
          "base_uri": "https://localhost:8080/",
          "height": 508
        },
        "id": "MmF85fway3Wc",
        "outputId": "bbefc32d-96f4-4549-fcaf-2807c02c8657"
      },
      "execution_count": null,
      "outputs": [
        {
          "output_type": "display_data",
          "data": {
            "text/plain": [
              "<Figure size 1500x500 with 4 Axes>"
            ],
            "image/png": "[encoded data removed]"
          },
          "metadata": {}
        }
      ]
    },
    {
      "cell_type": "markdown",
      "source": [],
      "metadata": {
        "id": "Bvk0TLCYmv8v"
      }
    },
    {
      "cell_type": "markdown",
      "source": [
        "Single layer NN"
      ],
      "metadata": {
        "id": "H16BP0Nl1yCz"
      }
    },
    {
      "cell_type": "code",
      "source": [
        "import torch\n",
        "import torch.nn as nn\n",
        "import torch.optim as optim\n",
        "from torch.utils.data import DataLoader\n",
        "from torch.nn import Sequential, Module\n",
        "from sklearn.metrics import precision_score, recall_score"
      ],
      "metadata": {
        "id": "01xHwKum1mXp"
      },
      "execution_count": 11,
      "outputs": []
    },
    {
      "cell_type": "code",
      "source": [
        "class Single_Layer_NN(nn.Module):\n",
        "\n",
        "    def __init__(self, input_dim, hidden_dim, output_dim):\n",
        "        super().__init__()\n",
        "        self.seq = nn.Sequential(\n",
        "            nn.Linear(input_dim, hidden_dim),\n",
        "            nn.ReLU(),\n",
        "            nn.Linear(hidden_dim, output_dim)\n",
        "        )\n",
        "\n",
        "    def forward(self, X):\n",
        "        logits = self.seq(X)\n",
        "        return logits\n",
        "\n",
        "\n",
        "class Two_Layers_NN(nn.Module):\n",
        "\n",
        "    def __init__(self, input_dim, hidden_dim, output_dim):\n",
        "        super().__init__()\n",
        "        self.seq = nn.Sequential(\n",
        "            nn.Linear(input_dim, hidden_dim),\n",
        "            nn.ReLU(),\n",
        "            nn.Linear(hidden_dim, hidden_dim),\n",
        "            nn.ReLU(),\n",
        "            nn.Linear(hidden_dim, output_dim)\n",
        "        )\n",
        "\n",
        "    def forward(self, X):\n",
        "        logits = self.seq(X)\n",
        "        return logits"
      ],
      "metadata": {
        "id": "XdXeiXDv01-r"
      },
      "execution_count": 12,
      "outputs": []
    },
    {
      "cell_type": "code",
      "source": [
        "def embedding_dataloader(embedded_corpus, labels, batch_size):\n",
        "    to_load = []\n",
        "    for i in range(len(embedded_corpus)):\n",
        "      # convert label -1 to 0\n",
        "      label = max(labels[i],0)\n",
        "      to_load.append([embedded_corpus[i], label])\n",
        "\n",
        "    return DataLoader(to_load, batch_size = batch_size)"
      ],
      "metadata": {
        "id": "Le23JZE66x1J"
      },
      "execution_count": 17,
      "outputs": []
    },
    {
      "cell_type": "code",
      "source": [
        "def train_loop(dataloader, model, loss_fn, optimizer, t, print_log=True):\n",
        "    size = len(dataloader.dataset)\n",
        "    correct = 0\n",
        "    training_acc = 0\n",
        "    training_loss = 0\n",
        "    for batch, (X, y) in enumerate(dataloader):\n",
        "        # Compute prediction and loss\n",
        "        pred = model(X.type(torch.float32).to(device))\n",
        "        loss = loss_fn(pred, y.type(torch.LongTensor).to(device))\n",
        "        correct += (pred.argmax(1) == y.to(device)).type(torch.float).sum().item()\n",
        "\n",
        "        # Backpropagation\n",
        "        optimizer.zero_grad()\n",
        "        loss.backward()\n",
        "        optimizer.step()\n",
        "        loss, current = loss.item(), batch * len(X)\n",
        "        training_loss = loss\n",
        "        #if (print_log==True) and (batch % 100 == 0):\n",
        "        #    print(f\"\"\"Training loop: loss: {loss:>7f}  [{current:>5d}/{size:>5d}]\"\"\")\n",
        "    correct /= size\n",
        "    training_acc = 100*correct\n",
        "    if print_log==True and (t+1)%10==0:\n",
        "        print(f\"\"\"Training Accuracy: {training_acc:>0.1f}%\"\"\")\n",
        "    return training_acc, training_loss"
      ],
      "metadata": {
        "id": "J4RRb7IY5alH"
      },
      "execution_count": 13,
      "outputs": []
    },
    {
      "cell_type": "code",
      "source": [
        "def test_loop(dataloader, model, loss_fn, t, print_log=True):\n",
        "    size = len(dataloader.dataset)\n",
        "    num_batches = len(dataloader)\n",
        "    test_loss, correct = 0, 0\n",
        "\n",
        "    with torch.no_grad():\n",
        "        for X, y in dataloader:\n",
        "            pred = model(X.type(torch.float32).to(device))\n",
        "            test_loss += loss_fn(pred, y.type(torch.LongTensor).to(device)).item()\n",
        "            correct += (pred.argmax(1) == y.to(device)).type(torch.float).sum().item()\n",
        "\n",
        "    test_loss /= num_batches\n",
        "    correct /= size\n",
        "    testing_acc = 100*correct\n",
        "    if print_log==True and (t+1)%10==0:\n",
        "        print(f\"Testing Accuracy: {testing_acc:>0.1f}%, Avg loss: {test_loss:>8f} \\n\")\n",
        "    return testing_acc, test_loss"
      ],
      "metadata": {
        "id": "RdnMkrk96RpN"
      },
      "execution_count": 14,
      "outputs": []
    },
    {
      "cell_type": "code",
      "source": [
        "def nn_model_display(model, train_dataloader, test_dataloader, model_type):\n",
        "\n",
        "    X_preds_train = []\n",
        "    y_train = []\n",
        "    with torch.no_grad():\n",
        "        for X, y in train_dataloader:\n",
        "            X_preds_train.append(model(X.type(torch.float32).to(device)))\n",
        "            y_train.append(y)\n",
        "\n",
        "    y_train = torch.flatten(torch.stack(y_train))\n",
        "\n",
        "    X_preds_test = []\n",
        "    y_test = []\n",
        "    with torch.no_grad():\n",
        "        for X, y in test_dataloader:\n",
        "            X_preds_test.append(model(X.type(torch.float32).to(device)))\n",
        "            y_test.append(y)\n",
        "\n",
        "    y_test = torch.flatten(torch.stack(y_test))\n",
        "\n",
        "    y_preds_train = torch.flatten(torch.stack(X_preds_train).argmax(2))\n",
        "    y_preds_test = torch.flatten(torch.stack(X_preds_test).argmax(2))\n",
        "\n",
        "    accuracy_train = accuracy_score(y_train, y_preds_train.cpu())\n",
        "    accuracy_test = accuracy_score(y_test, y_preds_test.cpu())\n",
        "\n",
        "    confusion_matrix_train = confusion_matrix(y_train, y_preds_train.cpu())\n",
        "    confusion_matrix_test = confusion_matrix(y_test, y_preds_test.cpu())\n",
        "\n",
        "    fig, ax = plt.subplots(1,2, figsize=(15,5))\n",
        "    cmp_train = ConfusionMatrixDisplay(confusion_matrix=confusion_matrix_train,display_labels=(-1,1))\n",
        "    cmp_train.plot(ax=ax[0])\n",
        "    ax[0].set_title(f'{model_type}\\nTraining Data \\nAccuracy: {accuracy_train}')\n",
        "\n",
        "    cmp_test = ConfusionMatrixDisplay(confusion_matrix=confusion_matrix_test,display_labels=(-1,1))\n",
        "    cmp_test.plot(ax=ax[1])\n",
        "    ax[1].set_title(f'{model_type}\\nTesting Data \\nAccuracy: {accuracy_test}')\n",
        "\n",
        "    plt.show()\n",
        "\n",
        "    return y_preds_train, y_preds_test, accuracy_train, accuracy_test, confusion_matrix_train, confusion_matrix_test\n"
      ],
      "metadata": {
        "id": "lflH4q1z6bCo"
      },
      "execution_count": 15,
      "outputs": []
    },
    {
      "cell_type": "code",
      "source": [
        "input_dim = embedded_corpus_train.shape[1]\n",
        "hidden_dim = input_dim*2\n",
        "output_dim = 2\n",
        "device = \"cuda\" if torch.cuda.is_available() else \"cpu\"\n",
        "print(f\"Using {device} device\")\n",
        "\n",
        "model_1_layer = Single_Layer_NN(input_dim, hidden_dim, output_dim).to(device)\n",
        "model_1_layer.requires_grad_(True)\n",
        "\n",
        "learning_rate = 1e-3\n",
        "batch_size = 100\n",
        "epochs = 100\n",
        "loss_fn = nn.CrossEntropyLoss()\n",
        "optimizer = torch.optim.Adam(model_1_layer.parameters(), lr=learning_rate, weight_decay=1e-3)\n",
        "\n",
        "train_dataloader = embedding_dataloader(embedded_corpus_train, y_train, batch_size)\n",
        "test_dataloader = embedding_dataloader(embedded_corpus_test, y_test, batch_size)\n",
        "\n",
        "train_acc, train_loss = [], []\n",
        "test_acc, test_loss = [], []\n",
        "\n",
        "for t in range(epochs):\n",
        "    if (t+1)%10 == 0:\n",
        "      print(f\"Epoch {t+1}\\n-------------------------------\")\n",
        "    acc, loss = train_loop(train_dataloader, model_1_layer, loss_fn, optimizer, t)\n",
        "    train_acc.append(acc)\n",
        "    train_loss.append(loss)\n",
        "    acc, loss = test_loop(test_dataloader, model_1_layer, loss_fn, t)\n",
        "    test_acc.append(acc)\n",
        "    test_loss.append(loss)\n",
        "print(\"Done!\")\n",
        "\n",
        "y_preds_train, y_preds_test, accuracy_train, accuracy_test, confusion_matrix_train, confusion_matrix_test = nn_model_display(model_1_layer, train_dataloader, test_dataloader, 'Doc2Vec Single Layer NN')"
      ],
      "metadata": {
        "colab": {
          "base_uri": "https://localhost:8080/",
          "height": 1000
        },
        "id": "DhGl-00a6YG0",
        "outputId": "5e218a0a-af89-4eb2-84e1-741c3ccd3ead"
      },
      "execution_count": null,
      "outputs": [
        {
          "output_type": "stream",
          "name": "stdout",
          "text": [
            "Using cuda device\n",
            "Epoch 10\n",
            "-------------------------------\n",
            "Training Accuracy: 90.2%\n",
            "Testing Accuracy: 89.3%, Avg loss: 0.256885 \n",
            "\n",
            "Epoch 20\n",
            "-------------------------------\n",
            "Training Accuracy: 90.9%\n",
            "Testing Accuracy: 89.1%, Avg loss: 0.263647 \n",
            "\n",
            "Epoch 30\n",
            "-------------------------------\n",
            "Training Accuracy: 91.3%\n",
            "Testing Accuracy: 89.1%, Avg loss: 0.270302 \n",
            "\n",
            "Epoch 40\n",
            "-------------------------------\n",
            "Training Accuracy: 91.5%\n",
            "Testing Accuracy: 88.8%, Avg loss: 0.275467 \n",
            "\n",
            "Epoch 50\n",
            "-------------------------------\n",
            "Training Accuracy: 91.7%\n",
            "Testing Accuracy: 88.5%, Avg loss: 0.279097 \n",
            "\n",
            "Epoch 60\n",
            "-------------------------------\n",
            "Training Accuracy: 92.0%\n",
            "Testing Accuracy: 88.6%, Avg loss: 0.282468 \n",
            "\n",
            "Epoch 70\n",
            "-------------------------------\n",
            "Training Accuracy: 92.1%\n",
            "Testing Accuracy: 88.3%, Avg loss: 0.285691 \n",
            "\n",
            "Epoch 80\n",
            "-------------------------------\n",
            "Training Accuracy: 92.2%\n",
            "Testing Accuracy: 88.4%, Avg loss: 0.287797 \n",
            "\n",
            "Epoch 90\n",
            "-------------------------------\n",
            "Training Accuracy: 92.3%\n",
            "Testing Accuracy: 88.4%, Avg loss: 0.289370 \n",
            "\n",
            "Epoch 100\n",
            "-------------------------------\n",
            "Training Accuracy: 92.4%\n",
            "Testing Accuracy: 88.3%, Avg loss: 0.290799 \n",
            "\n",
            "Done!\n"
          ]
        },
        {
          "output_type": "display_data",
          "data": {
            "text/plain": [
              "<Figure size 1500x500 with 4 Axes>"
            ],
            "image/png": "[encoded data removed]"
          },
          "metadata": {}
        }
      ]
    },
    {
      "cell_type": "markdown",
      "source": [
        "2 Layers NN"
      ],
      "metadata": {
        "id": "GgqmnghoAHx3"
      }
    },
    {
      "cell_type": "code",
      "source": [
        "model_2_layer = Two_Layers_NN(input_dim, hidden_dim, output_dim).to(device)\n",
        "model_2_layer.requires_grad_(True)\n",
        "\n",
        "learning_rate = 1e-3\n",
        "batch_size = 100\n",
        "epochs = 40\n",
        "loss_fn = nn.CrossEntropyLoss()\n",
        "optimizer = torch.optim.Adam(model_2_layer.parameters(), lr=learning_rate, weight_decay=1e-3)\n",
        "\n",
        "train_acc, train_loss = [], []\n",
        "test_acc, test_loss = [], []\n",
        "\n",
        "for t in range(epochs):\n",
        "    if (t+1)%10 == 0:\n",
        "      print(f\"Epoch {t+1}\\n-------------------------------\")\n",
        "    acc, loss = train_loop(train_dataloader, model_2_layer, loss_fn, optimizer, t)\n",
        "    train_acc.append(acc)\n",
        "    train_loss.append(loss)\n",
        "    acc, loss = test_loop(test_dataloader, model_2_layer, loss_fn, t)\n",
        "    test_acc.append(acc)\n",
        "    test_loss.append(loss)\n",
        "print(\"Done!\")\n",
        "\n",
        "y_preds_train, y_preds_test, accuracy_train, accuracy_test, confusion_matrix_train, confusion_matrix_test = nn_model_display(model_2_layer, train_dataloader, test_dataloader, 'Doc2Vec Two Layers NN')"
      ],
      "metadata": {
        "colab": {
          "base_uri": "https://localhost:8080/",
          "height": 912
        },
        "id": "B_PyQwIxAfgw",
        "outputId": "f39faa36-4929-4141-fa29-7c6a9a54318a"
      },
      "execution_count": null,
      "outputs": [
        {
          "output_type": "stream",
          "name": "stdout",
          "text": [
            "Epoch 10\n",
            "-------------------------------\n",
            "Training Accuracy: 90.6%\n",
            "Testing Accuracy: 88.8%, Avg loss: 0.262922 \n",
            "\n",
            "Epoch 20\n",
            "-------------------------------\n",
            "Training Accuracy: 91.8%\n",
            "Testing Accuracy: 88.4%, Avg loss: 0.282567 \n",
            "\n",
            "Epoch 30\n",
            "-------------------------------\n",
            "Training Accuracy: 92.6%\n",
            "Testing Accuracy: 88.2%, Avg loss: 0.298496 \n",
            "\n",
            "Epoch 40\n",
            "-------------------------------\n",
            "Training Accuracy: 93.3%\n",
            "Testing Accuracy: 87.7%, Avg loss: 0.318073 \n",
            "\n",
            "Done!\n"
          ]
        },
        {
          "output_type": "display_data",
          "data": {
            "text/plain": [
              "<Figure size 1500x500 with 4 Axes>"
            ],
            "image/png": "[encoded data removed]"
          },
          "metadata": {}
        }
      ]
    },
    {
      "cell_type": "markdown",
      "source": [
        "Glove Embeddings"
      ],
      "metadata": {
        "id": "HFNG3mKFS7Xp"
      }
    },
    {
      "cell_type": "code",
      "source": [
        "!pip install glove-python3"
      ],
      "metadata": {
        "colab": {
          "base_uri": "https://localhost:8080/"
        },
        "id": "Pn2PsyxVTmiI",
        "outputId": "5143d68a-6df4-4354-f9ae-b6eb49225db2"
      },
      "execution_count": null,
      "outputs": [
        {
          "output_type": "stream",
          "name": "stdout",
          "text": [
            "Requirement already satisfied: glove-python3 in /usr/local/lib/python3.10/dist-packages (0.1.0)\n",
            "Requirement already satisfied: numpy in /usr/local/lib/python3.10/dist-packages (from glove-python3) (1.23.5)\n",
            "Requirement already satisfied: scipy in /usr/local/lib/python3.10/dist-packages (from glove-python3) (1.11.4)\n"
          ]
        }
      ]
    },
    {
      "cell_type": "code",
      "source": [
        "from glove import Corpus, Glove\n",
        "# creating a corpus object\n",
        "glove_train_corpus = [i.words for i in train_corpus]\n",
        "glove_test_corpus = test_corpus.copy()\n",
        "corpus = Corpus()\n",
        "corpus.fit(glove_train_corpus, window=10)"
      ],
      "metadata": {
        "id": "h8i8OLunAxNh"
      },
      "execution_count": null,
      "outputs": []
    },
    {
      "cell_type": "code",
      "source": [
        "glove = Glove(no_components=50, learning_rate=0.05)\n",
        "glove.fit(corpus.matrix, epochs=30, no_threads=4, verbose=True)\n",
        "glove.add_dictionary(corpus.dictionary)\n",
        "glove.save('glove.model')"
      ],
      "metadata": {
        "colab": {
          "base_uri": "https://localhost:8080/"
        },
        "id": "iPuTBTxsU_pH",
        "outputId": "0b68d659-6fc3-4b12-d4e2-bd58b3cecb24"
      },
      "execution_count": null,
      "outputs": [
        {
          "output_type": "stream",
          "name": "stdout",
          "text": [
            "Performing 30 training epochs with 4 threads\n",
            "Epoch 0\n",
            "Epoch 1\n",
            "Epoch 2\n",
            "Epoch 3\n",
            "Epoch 4\n",
            "Epoch 5\n",
            "Epoch 6\n",
            "Epoch 7\n",
            "Epoch 8\n",
            "Epoch 9\n",
            "Epoch 10\n",
            "Epoch 11\n",
            "Epoch 12\n",
            "Epoch 13\n",
            "Epoch 14\n",
            "Epoch 15\n",
            "Epoch 16\n",
            "Epoch 17\n",
            "Epoch 18\n",
            "Epoch 19\n",
            "Epoch 20\n",
            "Epoch 21\n",
            "Epoch 22\n",
            "Epoch 23\n",
            "Epoch 24\n",
            "Epoch 25\n",
            "Epoch 26\n",
            "Epoch 27\n",
            "Epoch 28\n",
            "Epoch 29\n"
          ]
        }
      ]
    },
    {
      "cell_type": "code",
      "source": [
        "glove.add_dictionary(corpus.dictionary)"
      ],
      "metadata": {
        "id": "FALxV8HOVL6F"
      },
      "execution_count": null,
      "outputs": []
    },
    {
      "cell_type": "code",
      "source": [
        "def glove_embbedding_mean(text, glove, no_components):\n",
        "  embedding = np.zeros(no_components)\n",
        "\n",
        "  for word in text:\n",
        "    try:\n",
        "      embedding += glove.word_vectors[glove.dictionary[word]]\n",
        "    # If word not in vocabulary pass 0 array\n",
        "    except:\n",
        "      embedding += np.zeros(no_components)\n",
        "\n",
        "  embedding_mean = embedding/no_components\n",
        "\n",
        "  return embedding_mean\n"
      ],
      "metadata": {
        "id": "CB-likS6VoPx"
      },
      "execution_count": null,
      "outputs": []
    },
    {
      "cell_type": "code",
      "source": [
        "embedded_corpus_train = np.array([glove_embbedding_mean(i, glove, 50) for i in glove_train_corpus])\n",
        "embedded_corpus_test = np.array([glove_embbedding_mean(i, glove, 50) for i in glove_test_corpus])"
      ],
      "metadata": {
        "id": "lDPDckn1XC4A"
      },
      "execution_count": null,
      "outputs": []
    },
    {
      "cell_type": "code",
      "source": [
        "clf = svm.SVC()\n",
        "y_preds_train, y_preds_test, accuracy_train, accuracy_test, confusion_matrix_train, confusion_matrix_test = train_test_display(clf, embedded_corpus_train, y_train, embedded_corpus_test, y_test,'Glove SVM')"
      ],
      "metadata": {
        "colab": {
          "base_uri": "https://localhost:8080/",
          "height": 508
        },
        "id": "hZjy6VPvXfe8",
        "outputId": "ac146273-d39d-47c8-afc6-47381dda789c"
      },
      "execution_count": null,
      "outputs": [
        {
          "output_type": "display_data",
          "data": {
            "text/plain": [
              "<Figure size 1500x500 with 4 Axes>"
            ],
            "image/png": "[encoded data removed]"
          },
          "metadata": {}
        }
      ]
    },
    {
      "cell_type": "code",
      "source": [
        "clf = LogisticRegression(random_state=0)\n",
        "y_preds_train, y_preds_test, accuracy_train, accuracy_test, confusion_matrix_train, confusion_matrix_test = train_test_display(clf, embedded_corpus_train, y_train, embedded_corpus_test, y_test,'Glove Logistic Regression')"
      ],
      "metadata": {
        "colab": {
          "base_uri": "https://localhost:8080/",
          "height": 508
        },
        "id": "XXsjLk4DZBKh",
        "outputId": "4edb4574-df18-4dae-f7b2-d10dd4427012"
      },
      "execution_count": null,
      "outputs": [
        {
          "output_type": "display_data",
          "data": {
            "text/plain": [
              "<Figure size 1500x500 with 4 Axes>"
            ],
            "image/png": "[encoded data removed]"
          },
          "metadata": {}
        }
      ]
    },
    {
      "cell_type": "code",
      "source": [
        "train_dataloader = embedding_dataloader(embedded_corpus_train, y_train, batch_size)\n",
        "test_dataloader = embedding_dataloader(embedded_corpus_test, y_test, batch_size)"
      ],
      "metadata": {
        "id": "mqeZRR5aZv7U"
      },
      "execution_count": null,
      "outputs": []
    },
    {
      "cell_type": "code",
      "source": [
        "input_dim = embedded_corpus_train.shape[1]\n",
        "hidden_dim = input_dim*2\n",
        "output_dim = 2\n",
        "device = \"cuda\" if torch.cuda.is_available() else \"cpu\"\n",
        "print(f\"Using {device} device\")\n",
        "\n",
        "model_1_layer = Single_Layer_NN(input_dim, hidden_dim, output_dim).to(device)\n",
        "model_1_layer.requires_grad_(True)\n",
        "\n",
        "learning_rate = 1e-3\n",
        "batch_size = 100\n",
        "epochs = 40\n",
        "loss_fn = nn.CrossEntropyLoss()\n",
        "optimizer = torch.optim.Adam(model_1_layer.parameters(), lr=learning_rate, weight_decay=1e-3)\n",
        "\n",
        "\n",
        "train_acc, train_loss = [], []\n",
        "test_acc, test_loss = [], []\n",
        "\n",
        "for t in range(epochs):\n",
        "    if (t+1)%10 == 0:\n",
        "      print(f\"Epoch {t+1}\\n-------------------------------\")\n",
        "    acc, loss = train_loop(train_dataloader, model_1_layer, loss_fn, optimizer, t)\n",
        "    train_acc.append(acc)\n",
        "    train_loss.append(loss)\n",
        "    acc, loss = test_loop(test_dataloader, model_1_layer, loss_fn, t)\n",
        "    test_acc.append(acc)\n",
        "    test_loss.append(loss)\n",
        "print(\"Done!\")\n",
        "\n",
        "y_preds_train, y_preds_test, accuracy_train, accuracy_test, confusion_matrix_train, confusion_matrix_test = nn_model_display(model_1_layer, train_dataloader, test_dataloader, 'Glove Single Layer NN')"
      ],
      "metadata": {
        "colab": {
          "base_uri": "https://localhost:8080/",
          "height": 930
        },
        "id": "NxTZc1xRZ0gi",
        "outputId": "0bd9d8ff-e14b-401e-be84-9099db51a02d"
      },
      "execution_count": null,
      "outputs": [
        {
          "output_type": "stream",
          "name": "stdout",
          "text": [
            "Using cuda device\n",
            "Epoch 10\n",
            "-------------------------------\n",
            "Training Accuracy: 87.6%\n",
            "Testing Accuracy: 88.4%, Avg loss: 0.290904 \n",
            "\n",
            "Epoch 20\n",
            "-------------------------------\n",
            "Training Accuracy: 87.7%\n",
            "Testing Accuracy: 88.5%, Avg loss: 0.286266 \n",
            "\n",
            "Epoch 30\n",
            "-------------------------------\n",
            "Training Accuracy: 87.9%\n",
            "Testing Accuracy: 88.6%, Avg loss: 0.284568 \n",
            "\n",
            "Epoch 40\n",
            "-------------------------------\n",
            "Training Accuracy: 87.9%\n",
            "Testing Accuracy: 88.5%, Avg loss: 0.283352 \n",
            "\n",
            "Done!\n"
          ]
        },
        {
          "output_type": "display_data",
          "data": {
            "text/plain": [
              "<Figure size 1500x500 with 4 Axes>"
            ],
            "image/png": "[encoded data removed]"
          },
          "metadata": {}
        }
      ]
    },
    {
      "cell_type": "code",
      "source": [
        "model_2_layer = Two_Layers_NN(input_dim, hidden_dim, output_dim).to(device)\n",
        "model_2_layer.requires_grad_(True)\n",
        "\n",
        "learning_rate = 1e-3\n",
        "batch_size = 100\n",
        "epochs = 40\n",
        "loss_fn = nn.CrossEntropyLoss()\n",
        "optimizer = torch.optim.Adam(model_2_layer.parameters(), lr=learning_rate, weight_decay=1e-3)\n",
        "\n",
        "train_acc, train_loss = [], []\n",
        "test_acc, test_loss = [], []\n",
        "\n",
        "for t in range(epochs):\n",
        "    if (t+1)%10 == 0:\n",
        "      print(f\"Epoch {t+1}\\n-------------------------------\")\n",
        "    acc, loss = train_loop(train_dataloader, model_2_layer, loss_fn, optimizer, t)\n",
        "    train_acc.append(acc)\n",
        "    train_loss.append(loss)\n",
        "    acc, loss = test_loop(test_dataloader, model_2_layer, loss_fn, t)\n",
        "    test_acc.append(acc)\n",
        "    test_loss.append(loss)\n",
        "print(\"Done!\")\n",
        "\n",
        "y_preds_train, y_preds_test, accuracy_train, accuracy_test, confusion_matrix_train, confusion_matrix_test = nn_model_display(model_2_layer, train_dataloader, test_dataloader, 'Glove Two Layers NN')"
      ],
      "metadata": {
        "colab": {
          "base_uri": "https://localhost:8080/",
          "height": 912
        },
        "id": "Zg0SdWleAfEg",
        "outputId": "ebe495cd-9f4f-431c-d7a4-06342b5ad8b0"
      },
      "execution_count": null,
      "outputs": [
        {
          "output_type": "stream",
          "name": "stdout",
          "text": [
            "Epoch 10\n",
            "-------------------------------\n",
            "Training Accuracy: 87.7%\n",
            "Testing Accuracy: 88.4%, Avg loss: 0.284004 \n",
            "\n",
            "Epoch 20\n",
            "-------------------------------\n",
            "Training Accuracy: 88.2%\n",
            "Testing Accuracy: 88.6%, Avg loss: 0.274991 \n",
            "\n",
            "Epoch 30\n",
            "-------------------------------\n",
            "Training Accuracy: 88.5%\n",
            "Testing Accuracy: 89.0%, Avg loss: 0.269153 \n",
            "\n",
            "Epoch 40\n",
            "-------------------------------\n",
            "Training Accuracy: 88.6%\n",
            "Testing Accuracy: 88.9%, Avg loss: 0.267794 \n",
            "\n",
            "Done!\n"
          ]
        },
        {
          "output_type": "display_data",
          "data": {
            "text/plain": [
              "<Figure size 1500x500 with 4 Axes>"
            ],
            "image/png": "[encoded data removed]"
          },
          "metadata": {}
        }
      ]
    },
    {
      "cell_type": "markdown",
      "source": [
        "BERT Tokenizer"
      ],
      "metadata": {
        "id": "C5sfDKA8odR_"
      }
    },
    {
      "cell_type": "code",
      "source": [
        "from transformers import AutoTokenizer, DistilBertModel\n",
        "import torch\n",
        "\n",
        "tokenizer = AutoTokenizer.from_pretrained(\"distilbert-base-uncased\")\n",
        "model = DistilBertModel.from_pretrained(\"distilbert-base-uncased\")"
      ],
      "metadata": {
        "colab": {
          "base_uri": "https://localhost:8080/",
          "height": 177,
          "referenced_widgets": [
            "0e0ea4c981d345fc967ab6d2ae4d4d4a",
            "2b43c5b9ec9d4c17aa4b62739f038378",
            "4e9d424960a34f50820a4bc6182405dc",
            "782a0bef966b40f0930a8eb37ec46708",
            "aa31e86338e744dd8726541aab718158",
            "d7b65ebe07904c8a9b9072e813e2123e",
            "9c27734829134aeca55d2d5e9e5e0c46",
            "48eaed498ac7419294e45306f3bf6dd8",
            "d9d8a38ab48f4f4a8a13aea772484ff4",
            "25e57f68e7e34521bc980919c8220f93",
            "2280a8a47e0140eaaa5b3c4be3284409",
            "64e0363d76cf43d995f174d806a42f6d",
            "f54cb9d263d74d6e9a7dbfe507439aa6",
            "0b7cb07e0c8d439e974ccfa26cae5736",
            "10a444d547e0427095a3e890915f039a",
            "a253697bff7e4070b06490d913d0bf48",
            "58b8acd8a7844ba99641d738928044f1",
            "f062bf0e92a34c5e806ed435d1353c51",
            "dd73a1bb82ab4771af0e34c534b7cf6c",
            "74a21387ab6a45d7a48462b2c18a9197",
            "789d569e16024c5b88ba38c40c192ce5",
            "ec0ad1fbb06f4a96a2ca931681ffc1c1",
            "d21d7b89c8de4951a92e592bb7aef25d",
            "8f1e87ba0d0e4d8480716a97322e0022",
            "024d44eee4b84b0c9a1ad6ccba223387",
            "32f254aa4e9e4fe78f435f39a3a4cf07",
            "58fe1de4039444bd8720c762d61dff72",
            "408d6a8cf0064b92b0fa9d4e519f6fad",
            "3005a04658f7478eafefd4ac07625433",
            "46d9b25c827047d39c6262530482b1e2",
            "48b910028456430c904cdd5fdf1e17fd",
            "1aa52a9eee83410e8bcf90e67fb88bc0",
            "8adf9896ca1445539b53a6b1dd4258f9",
            "6a772dfc5e8b48dd9c06e3e782cd3fe2",
            "a70ec4aeaab643b187de613ab8e6f582",
            "22f8ace16e994593aca1df0a83778e9a",
            "8f6ea87c36ea453390298c5ef5ca806f",
            "d996a5b660f8487cbe243f2886dd7e97",
            "75ceb080469d4c7e9e589a4961b23d79",
            "095c570509a542bd8e180c17f658fd68",
            "e27e84d5e3784918a3a2ca11d1fac3e0",
            "2f1486acdb1840bfae5a8d6da65c6139",
            "16acfacbd4994434a4d32c1a64643067",
            "0831d220219647dcb9082e6132d7a001",
            "5e30073c9e51403a9bdb124df0e16b80",
            "727a4cd69cde467eb72ca81207dd3d9e",
            "e05aaba8eb4f43a2bdf6b4978b82d567",
            "7fb4bef961ce4498859c1025d00729b3",
            "7ef43de2471949e088e16141aeccd858",
            "81d81c8d35f340c085e3c59b0e1ff65c",
            "d09d4cd34350445e8e1d8e22c1960c58",
            "9153997561f2404fafff4a254a29145c",
            "10e1b04099e54cc7bf50d1ebf4120f6d",
            "5aa362917d1e48fa822efc074a78e3b3",
            "0386d7b4ca87451e92de08ce83371e57"
          ]
        },
        "id": "scKMl2XJENl4",
        "outputId": "e563f588-22c3-4333-94c2-78364a66d560"
      },
      "execution_count": 6,
      "outputs": [
        {
          "output_type": "display_data",
          "data": {
            "text/plain": [
              "tokenizer_config.json:   0%|          | 0.00/28.0 [00:00<?, ?B/s]"
            ],
            "application/vnd.jupyter.widget-view+json": {
              "version_major": 2,
              "version_minor": 0,
              "model_id": "0e0ea4c981d345fc967ab6d2ae4d4d4a"
            }
          },
          "metadata": {}
        },
        {
          "output_type": "display_data",
          "data": {
            "text/plain": [
              "config.json:   0%|          | 0.00/483 [00:00<?, ?B/s]"
            ],
            "application/vnd.jupyter.widget-view+json": {
              "version_major": 2,
              "version_minor": 0,
              "model_id": "64e0363d76cf43d995f174d806a42f6d"
            }
          },
          "metadata": {}
        },
        {
          "output_type": "display_data",
          "data": {
            "text/plain": [
              "vocab.txt:   0%|          | 0.00/232k [00:00<?, ?B/s]"
            ],
            "application/vnd.jupyter.widget-view+json": {
              "version_major": 2,
              "version_minor": 0,
              "model_id": "d21d7b89c8de4951a92e592bb7aef25d"
            }
          },
          "metadata": {}
        },
        {
          "output_type": "display_data",
          "data": {
            "text/plain": [
              "tokenizer.json:   0%|          | 0.00/466k [00:00<?, ?B/s]"
            ],
            "application/vnd.jupyter.widget-view+json": {
              "version_major": 2,
              "version_minor": 0,
              "model_id": "6a772dfc5e8b48dd9c06e3e782cd3fe2"
            }
          },
          "metadata": {}
        },
        {
          "output_type": "display_data",
          "data": {
            "text/plain": [
              "model.safetensors:   0%|          | 0.00/268M [00:00<?, ?B/s]"
            ],
            "application/vnd.jupyter.widget-view+json": {
              "version_major": 2,
              "version_minor": 0,
              "model_id": "5e30073c9e51403a9bdb124df0e16b80"
            }
          },
          "metadata": {}
        }
      ]
    },
    {
      "cell_type": "code",
      "source": [
        "embedded_corpus_train = torch.zeros(len(X_train),768)\n",
        "for i in tqdm(range(len(X_train)), total=len(X_train)):\n",
        "  with torch.no_grad():\n",
        "    inputs = tokenizer(X_train[i], return_tensors=\"pt\", padding=True, truncation=True, max_length=42)\n",
        "    outputs = model(**inputs)\n",
        "\n",
        "    last_hidden_states = outputs.last_hidden_state\n",
        "    sentence_embedding = torch.mean(last_hidden_states.squeeze(),0)\n",
        "    embedded_corpus_train[i] = sentence_embedding"
      ],
      "metadata": {
        "colab": {
          "base_uri": "https://localhost:8080/",
          "height": 49,
          "referenced_widgets": [
            "7e6aa2d62843463d90857bccdef03517",
            "b6f96e5062c84f399938d49e0e096324",
            "8dfaa946b240437085b4e18e14d9d4fa",
            "9f15b41c22444e18acde951312894a42",
            "85ac9263fa8d45619919256028927515",
            "f10b3dfc81504883b88c170b6c4f80a1",
            "97ccc2326d454bcfa61665fbf0d729f9",
            "e47b5718dd8940549a1198448543d571",
            "0a4c04d20b2a42ffa13bce0cb67b088b",
            "6caced537f2448c9ae86e62cc0276d2e",
            "97de668485a24e0983f04ec79288a2fa"
          ]
        },
        "id": "3G14XvHCER7U",
        "outputId": "2a45de14-838a-427b-e514-4bdec344b501"
      },
      "execution_count": 38,
      "outputs": [
        {
          "output_type": "display_data",
          "data": {
            "text/plain": [
              "  0%|          | 0/4000 [00:00<?, ?it/s]"
            ],
            "application/vnd.jupyter.widget-view+json": {
              "version_major": 2,
              "version_minor": 0,
              "model_id": "7e6aa2d62843463d90857bccdef03517"
            }
          },
          "metadata": {}
        }
      ]
    },
    {
      "cell_type": "code",
      "source": [
        "embedded_corpus_test = torch.zeros(len(X_test),768)\n",
        "for i in tqdm(range(len(X_test)), total=len(X_test)):\n",
        "  with torch.no_grad():\n",
        "    inputs = tokenizer(X_test[i], return_tensors=\"pt\", padding=True, truncation=True, max_length=42)\n",
        "    outputs = model(**inputs)\n",
        "\n",
        "    last_hidden_states = outputs.last_hidden_state\n",
        "    sentence_embedding = torch.mean(last_hidden_states.squeeze(),0)\n",
        "    embedded_corpus_test[i] = sentence_embedding"
      ],
      "metadata": {
        "colab": {
          "base_uri": "https://localhost:8080/",
          "height": 49,
          "referenced_widgets": [
            "0bd3dd34b440451c9d67b60fd5e1513a",
            "d41819570f7f4267843291003f81eb52",
            "7ba22c4d0cec449caf8990ddc616b99e",
            "74aae94ec46648aa85517358132cdb78",
            "b6005d95703849d7be5fdc31b7ccce25",
            "e7d8d4ecbb934da08c67284e1bd95779",
            "8e66def60e8c41d781af9d73f355c610",
            "c719f7b731984b32b1c538a2f47d4fba",
            "d0662aaa2a7d40839b5633c26f8519b8",
            "7d2771191cdd465fb28047ce6a4106d6",
            "d2a728d40e514ef99f7588f241d71ad7"
          ]
        },
        "id": "1jGZgY0rLvJF",
        "outputId": "80dbcd8f-bee1-4e3f-fc91-be28edafbcec"
      },
      "execution_count": 39,
      "outputs": [
        {
          "output_type": "display_data",
          "data": {
            "text/plain": [
              "  0%|          | 0/1000 [00:00<?, ?it/s]"
            ],
            "application/vnd.jupyter.widget-view+json": {
              "version_major": 2,
              "version_minor": 0,
              "model_id": "0bd3dd34b440451c9d67b60fd5e1513a"
            }
          },
          "metadata": {}
        }
      ]
    },
    {
      "cell_type": "code",
      "source": [
        "batch_size = 100\n",
        "train_dataloader = embedding_dataloader(embedded_corpus_train, y_train, batch_size)\n",
        "test_dataloader = embedding_dataloader(embedded_corpus_test, y_test, batch_size)"
      ],
      "metadata": {
        "id": "fFedQXDfquDg"
      },
      "execution_count": 40,
      "outputs": []
    },
    {
      "cell_type": "code",
      "source": [
        "for i in range(len(embedded_corpus_train)):\n",
        " if embedded_corpus_train[i].shape[0] != 768:\n",
        "  print(i, embedded_corpus_train[i].shape[0])"
      ],
      "metadata": {
        "id": "xbRC-GF-VLYz"
      },
      "execution_count": 41,
      "outputs": []
    },
    {
      "cell_type": "code",
      "source": [
        "type(embedded_corpus_train)"
      ],
      "metadata": {
        "colab": {
          "base_uri": "https://localhost:8080/"
        },
        "id": "8m3Q2nUgVyOs",
        "outputId": "b5be2c2e-42e1-4ab2-df6d-79d2c969f580"
      },
      "execution_count": 42,
      "outputs": [
        {
          "output_type": "execute_result",
          "data": {
            "text/plain": [
              "torch.Tensor"
            ]
          },
          "metadata": {},
          "execution_count": 42
        }
      ]
    },
    {
      "cell_type": "code",
      "source": [
        "clf = svm.SVC()\n",
        "y_preds_train, y_preds_test, accuracy_train, accuracy_test, confusion_matrix_train, confusion_matrix_test = train_test_display(clf, embedded_corpus_train, y_train, embedded_corpus_test, y_test,'BERT SVM')"
      ],
      "metadata": {
        "colab": {
          "base_uri": "https://localhost:8080/",
          "height": 508
        },
        "id": "d2LltcDspAOm",
        "outputId": "ceae6cee-db25-489e-909a-187a203fc13b"
      },
      "execution_count": 43,
      "outputs": [
        {
          "output_type": "display_data",
          "data": {
            "text/plain": [
              "<Figure size 1500x500 with 4 Axes>"
            ],
            "image/png": "[encoded data removed]"
          },
          "metadata": {}
        }
      ]
    },
    {
      "cell_type": "code",
      "source": [
        "clf = LogisticRegression(random_state=0)\n",
        "y_preds_train, y_preds_test, accuracy_train, accuracy_test, confusion_matrix_train, confusion_matrix_test = train_test_display(clf, embedded_corpus_train, y_train, embedded_corpus_test, y_test,'BERT Logistic Regression')"
      ],
      "metadata": {
        "id": "1DVPSPrjpHMM",
        "colab": {
          "base_uri": "https://localhost:8080/",
          "height": 674
        },
        "outputId": "e396aec5-54ea-4e83-e685-600ba8f8007f"
      },
      "execution_count": 48,
      "outputs": [
        {
          "output_type": "stream",
          "name": "stderr",
          "text": [
            "/usr/local/lib/python3.10/dist-packages/sklearn/linear_model/_logistic.py:458: ConvergenceWarning: lbfgs failed to converge (status=1):\n",
            "STOP: TOTAL NO. of ITERATIONS REACHED LIMIT.\n",
            "\n",
            "Increase the number of iterations (max_iter) or scale the data as shown in:\n",
            "    https://scikit-learn.org/stable/modules/preprocessing.html\n",
            "Please also refer to the documentation for alternative solver options:\n",
            "    https://scikit-learn.org/stable/modules/linear_model.html#logistic-regression\n",
            "  n_iter_i = _check_optimize_result(\n"
          ]
        },
        {
          "output_type": "display_data",
          "data": {
            "text/plain": [
              "<Figure size 1500x500 with 4 Axes>"
            ],
            "image/png": "[encoded data removed]"
          },
          "metadata": {}
        }
      ]
    },
    {
      "cell_type": "code",
      "source": [
        "input_dim = embedded_corpus_train.shape[1]\n",
        "hidden_dim = input_dim*2\n",
        "output_dim = 2\n",
        "device = \"cuda\" if torch.cuda.is_available() else \"cpu\"\n",
        "print(f\"Using {device} device\")\n",
        "\n",
        "model_1_layer = Single_Layer_NN(input_dim, hidden_dim, output_dim).to(device)\n",
        "model_1_layer.requires_grad_(True)\n",
        "\n",
        "learning_rate = 1e-3\n",
        "batch_size = 100\n",
        "epochs = 100\n",
        "loss_fn = nn.CrossEntropyLoss()\n",
        "optimizer = torch.optim.Adam(model_1_layer.parameters(), lr=learning_rate, weight_decay=1e-3)\n",
        "\n",
        "\n",
        "train_acc, train_loss = [], []\n",
        "test_acc, test_loss = [], []\n",
        "\n",
        "for t in range(epochs):\n",
        "    if (t+1)%10 == 0:\n",
        "      print(f\"Epoch {t+1}\\n-------------------------------\")\n",
        "    acc, loss = train_loop(train_dataloader, model_1_layer, loss_fn, optimizer, t)\n",
        "    train_acc.append(acc)\n",
        "    train_loss.append(loss)\n",
        "    acc, loss = test_loop(test_dataloader, model_1_layer, loss_fn, t)\n",
        "    test_acc.append(acc)\n",
        "    test_loss.append(loss)\n",
        "print(\"Done!\")\n",
        "\n",
        "y_preds_train, y_preds_test, accuracy_train, accuracy_test, confusion_matrix_train, confusion_matrix_test = nn_model_display(model_1_layer, train_dataloader, test_dataloader, 'BERT Single Layer NN')"
      ],
      "metadata": {
        "colab": {
          "base_uri": "https://localhost:8080/",
          "height": 1000
        },
        "id": "VS2QeBx5Ab9X",
        "outputId": "98f76e71-d470-46ca-810e-906136ab0bb2"
      },
      "execution_count": 45,
      "outputs": [
        {
          "output_type": "stream",
          "name": "stdout",
          "text": [
            "Using cuda device\n",
            "Epoch 10\n",
            "-------------------------------\n",
            "Training Accuracy: 85.8%\n",
            "Testing Accuracy: 84.1%, Avg loss: 0.359258 \n",
            "\n",
            "Epoch 20\n",
            "-------------------------------\n",
            "Training Accuracy: 87.2%\n",
            "Testing Accuracy: 84.6%, Avg loss: 0.352039 \n",
            "\n",
            "Epoch 30\n",
            "-------------------------------\n",
            "Training Accuracy: 89.0%\n",
            "Testing Accuracy: 84.2%, Avg loss: 0.354734 \n",
            "\n",
            "Epoch 40\n",
            "-------------------------------\n",
            "Training Accuracy: 91.8%\n",
            "Testing Accuracy: 82.4%, Avg loss: 0.420633 \n",
            "\n",
            "Epoch 50\n",
            "-------------------------------\n",
            "Training Accuracy: 92.3%\n",
            "Testing Accuracy: 79.0%, Avg loss: 0.552115 \n",
            "\n",
            "Epoch 60\n",
            "-------------------------------\n",
            "Training Accuracy: 90.6%\n",
            "Testing Accuracy: 82.3%, Avg loss: 0.425233 \n",
            "\n",
            "Epoch 70\n",
            "-------------------------------\n",
            "Training Accuracy: 96.0%\n",
            "Testing Accuracy: 84.2%, Avg loss: 0.389978 \n",
            "\n",
            "Epoch 80\n",
            "-------------------------------\n",
            "Training Accuracy: 98.1%\n",
            "Testing Accuracy: 84.0%, Avg loss: 0.401892 \n",
            "\n",
            "Epoch 90\n",
            "-------------------------------\n",
            "Training Accuracy: 98.5%\n",
            "Testing Accuracy: 84.1%, Avg loss: 0.429900 \n",
            "\n",
            "Epoch 100\n",
            "-------------------------------\n",
            "Training Accuracy: 97.5%\n",
            "Testing Accuracy: 83.4%, Avg loss: 0.447341 \n",
            "\n",
            "Done!\n"
          ]
        },
        {
          "output_type": "display_data",
          "data": {
            "text/plain": [
              "<Figure size 1500x500 with 4 Axes>"
            ],
            "image/png": "[encoded data removed]"
          },
          "metadata": {}
        }
      ]
    },
    {
      "cell_type": "code",
      "source": [
        "model_2_layer = Two_Layers_NN(input_dim, hidden_dim, output_dim).to(device)\n",
        "model_2_layer.requires_grad_(True)\n",
        "\n",
        "learning_rate = 1e-3\n",
        "batch_size = 100\n",
        "epochs = 40\n",
        "loss_fn = nn.CrossEntropyLoss()\n",
        "optimizer = torch.optim.Adam(model_2_layer.parameters(), lr=learning_rate, weight_decay=1e-3)\n",
        "\n",
        "train_acc, train_loss = [], []\n",
        "test_acc, test_loss = [], []\n",
        "\n",
        "for t in range(epochs):\n",
        "    if (t+1)%10 == 0:\n",
        "      print(f\"Epoch {t+1}\\n-------------------------------\")\n",
        "    acc, loss = train_loop(train_dataloader, model_2_layer, loss_fn, optimizer, t)\n",
        "    train_acc.append(acc)\n",
        "    train_loss.append(loss)\n",
        "    acc, loss = test_loop(test_dataloader, model_2_layer, loss_fn, t)\n",
        "    test_acc.append(acc)\n",
        "    test_loss.append(loss)\n",
        "print(\"Done!\")\n",
        "\n",
        "y_preds_train, y_preds_test, accuracy_train, accuracy_test, confusion_matrix_train, confusion_matrix_test = nn_model_display(model_2_layer, train_dataloader, test_dataloader, 'BERT Two Layers NN')"
      ],
      "metadata": {
        "colab": {
          "base_uri": "https://localhost:8080/",
          "height": 912
        },
        "id": "eLpoajY9Ash5",
        "outputId": "586133a0-bd70-470f-f619-e3e598ec9c57"
      },
      "execution_count": 46,
      "outputs": [
        {
          "output_type": "stream",
          "name": "stdout",
          "text": [
            "Epoch 10\n",
            "-------------------------------\n",
            "Training Accuracy: 88.2%\n",
            "Testing Accuracy: 83.5%, Avg loss: 0.384486 \n",
            "\n",
            "Epoch 20\n",
            "-------------------------------\n",
            "Training Accuracy: 90.5%\n",
            "Testing Accuracy: 80.6%, Avg loss: 0.572272 \n",
            "\n",
            "Epoch 30\n",
            "-------------------------------\n",
            "Training Accuracy: 93.2%\n",
            "Testing Accuracy: 81.7%, Avg loss: 0.459434 \n",
            "\n",
            "Epoch 40\n",
            "-------------------------------\n",
            "Training Accuracy: 94.1%\n",
            "Testing Accuracy: 82.5%, Avg loss: 0.571345 \n",
            "\n",
            "Done!\n"
          ]
        },
        {
          "output_type": "display_data",
          "data": {
            "text/plain": [
              "<Figure size 1500x500 with 4 Axes>"
            ],
            "image/png": "[encoded data removed]"
          },
          "metadata": {}
        }
      ]
    },
    {
      "cell_type": "code",
      "source": [],
      "metadata": {
        "id": "8q6iuWd-Euh1"
      },
      "execution_count": null,
      "outputs": []
    }
  ]
}