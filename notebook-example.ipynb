{
 "cells": [
  {
   "cell_type": "code",
   "execution_count": 2,
   "metadata": {},
   "outputs": [],
   "source": [
    "import json\n",
    "import pandas as pd\n",
    "import matplotlib.pyplot as plt\n",
    "import random"
   ]
  },
  {
   "cell_type": "code",
   "execution_count": 58,
   "metadata": {},
   "outputs": [],
   "source": [
    "data = []\n",
    "with open(\"yelp_academic_dataset_review.json\", \"r\") as f:\n",
    "    for i, line in enumerate(f):\n",
    "        if i >= 75000:\n",
    "            break\n",
    "        data.append(json.loads(line))\n",
    "df = pd.DataFrame(data) \n"
   ]
  },
  {
   "cell_type": "code",
   "execution_count": 59,
   "metadata": {},
   "outputs": [
    {
     "data": {
      "text/html": [
       "<div>\n",
       "<style scoped>\n",
       "    .dataframe tbody tr th:only-of-type {\n",
       "        vertical-align: middle;\n",
       "    }\n",
       "\n",
       "    .dataframe tbody tr th {\n",
       "        vertical-align: top;\n",
       "    }\n",
       "\n",
       "    .dataframe thead th {\n",
       "        text-align: right;\n",
       "    }\n",
       "</style>\n",
       "<table border=\"1\" class=\"dataframe\">\n",
       "  <thead>\n",
       "    <tr style=\"text-align: right;\">\n",
       "      <th></th>\n",
       "      <th>stars</th>\n",
       "      <th>text</th>\n",
       "    </tr>\n",
       "  </thead>\n",
       "  <tbody>\n",
       "    <tr>\n",
       "      <th>0</th>\n",
       "      <td>3</td>\n",
       "      <td>If you decide to eat here, just be aware it is...</td>\n",
       "    </tr>\n",
       "    <tr>\n",
       "      <th>1</th>\n",
       "      <td>5</td>\n",
       "      <td>I've taken a lot of spin classes over the year...</td>\n",
       "    </tr>\n",
       "    <tr>\n",
       "      <th>2</th>\n",
       "      <td>3</td>\n",
       "      <td>Family diner. Had the buffet. Eclectic assortm...</td>\n",
       "    </tr>\n",
       "    <tr>\n",
       "      <th>3</th>\n",
       "      <td>5</td>\n",
       "      <td>Wow!  Yummy, different,  delicious.   Our favo...</td>\n",
       "    </tr>\n",
       "    <tr>\n",
       "      <th>4</th>\n",
       "      <td>4</td>\n",
       "      <td>Cute interior and owner (?) gave us tour of up...</td>\n",
       "    </tr>\n",
       "    <tr>\n",
       "      <th>...</th>\n",
       "      <td>...</td>\n",
       "      <td>...</td>\n",
       "    </tr>\n",
       "    <tr>\n",
       "      <th>74995</th>\n",
       "      <td>4</td>\n",
       "      <td>Very cool store!! I've never been to one of th...</td>\n",
       "    </tr>\n",
       "    <tr>\n",
       "      <th>74996</th>\n",
       "      <td>5</td>\n",
       "      <td>I have been meaning to write a review for this...</td>\n",
       "    </tr>\n",
       "    <tr>\n",
       "      <th>74997</th>\n",
       "      <td>5</td>\n",
       "      <td>This place has MIND-BLOWINGLY good tacos and f...</td>\n",
       "    </tr>\n",
       "    <tr>\n",
       "      <th>74998</th>\n",
       "      <td>3</td>\n",
       "      <td>They give you large snowball sizes for little ...</td>\n",
       "    </tr>\n",
       "    <tr>\n",
       "      <th>74999</th>\n",
       "      <td>5</td>\n",
       "      <td>What a find!   Great discovery in Lutz /Land O...</td>\n",
       "    </tr>\n",
       "  </tbody>\n",
       "</table>\n",
       "<p>75000 rows × 2 columns</p>\n",
       "</div>"
      ],
      "text/plain": [
       "       stars                                               text\n",
       "0          3  If you decide to eat here, just be aware it is...\n",
       "1          5  I've taken a lot of spin classes over the year...\n",
       "2          3  Family diner. Had the buffet. Eclectic assortm...\n",
       "3          5  Wow!  Yummy, different,  delicious.   Our favo...\n",
       "4          4  Cute interior and owner (?) gave us tour of up...\n",
       "...      ...                                                ...\n",
       "74995      4  Very cool store!! I've never been to one of th...\n",
       "74996      5  I have been meaning to write a review for this...\n",
       "74997      5  This place has MIND-BLOWINGLY good tacos and f...\n",
       "74998      3  They give you large snowball sizes for little ...\n",
       "74999      5  What a find!   Great discovery in Lutz /Land O...\n",
       "\n",
       "[75000 rows x 2 columns]"
      ]
     },
     "execution_count": 59,
     "metadata": {},
     "output_type": "execute_result"
    }
   ],
   "source": [
    "review_df = df[['stars', 'text']].astype({'stars': int})\n",
    "review_df"
   ]
  },
  {
   "cell_type": "code",
   "execution_count": 60,
   "metadata": {},
   "outputs": [
    {
     "data": {
      "image/png": "[encoded data removed]",
      "text/plain": [
       "<Figure size 640x480 with 1 Axes>"
      ]
     },
     "metadata": {},
     "output_type": "display_data"
    }
   ],
   "source": [
    "# inspect distribution of classes\n",
    "df['stars'].value_counts().plot(kind='bar')\n",
    "plt.show()"
   ]
  },
  {
   "cell_type": "code",
   "execution_count": 61,
   "metadata": {},
   "outputs": [
    {
     "data": {
      "text/html": [
       "<div>\n",
       "<style scoped>\n",
       "    .dataframe tbody tr th:only-of-type {\n",
       "        vertical-align: middle;\n",
       "    }\n",
       "\n",
       "    .dataframe tbody tr th {\n",
       "        vertical-align: top;\n",
       "    }\n",
       "\n",
       "    .dataframe thead th {\n",
       "        text-align: right;\n",
       "    }\n",
       "</style>\n",
       "<table border=\"1\" class=\"dataframe\">\n",
       "  <thead>\n",
       "    <tr style=\"text-align: right;\">\n",
       "      <th></th>\n",
       "      <th>stars</th>\n",
       "      <th>text</th>\n",
       "    </tr>\n",
       "  </thead>\n",
       "  <tbody>\n",
       "    <tr>\n",
       "      <th>0</th>\n",
       "      <td>1</td>\n",
       "      <td>I, only gave 1 star because based on the appea...</td>\n",
       "    </tr>\n",
       "    <tr>\n",
       "      <th>1</th>\n",
       "      <td>1</td>\n",
       "      <td>Wouldn't go here again..... I got my belly but...</td>\n",
       "    </tr>\n",
       "    <tr>\n",
       "      <th>2</th>\n",
       "      <td>1</td>\n",
       "      <td>Some of the reviews have mentioned how long it...</td>\n",
       "    </tr>\n",
       "    <tr>\n",
       "      <th>3</th>\n",
       "      <td>1</td>\n",
       "      <td>Ok, I hate to give a place one star and I gene...</td>\n",
       "    </tr>\n",
       "    <tr>\n",
       "      <th>4</th>\n",
       "      <td>1</td>\n",
       "      <td>i wish i could have given it a zero or a negat...</td>\n",
       "    </tr>\n",
       "    <tr>\n",
       "      <th>...</th>\n",
       "      <td>...</td>\n",
       "      <td>...</td>\n",
       "    </tr>\n",
       "    <tr>\n",
       "      <th>29840</th>\n",
       "      <td>5</td>\n",
       "      <td>Great place for drinks (I've never had food he...</td>\n",
       "    </tr>\n",
       "    <tr>\n",
       "      <th>29841</th>\n",
       "      <td>5</td>\n",
       "      <td>My girlfriend and I just had a delightful lunc...</td>\n",
       "    </tr>\n",
       "    <tr>\n",
       "      <th>29842</th>\n",
       "      <td>5</td>\n",
       "      <td>Gorgeous and stylish. Comfortable and clean. T...</td>\n",
       "    </tr>\n",
       "    <tr>\n",
       "      <th>29843</th>\n",
       "      <td>5</td>\n",
       "      <td>Had a great time at BR! Our server Reyna? was ...</td>\n",
       "    </tr>\n",
       "    <tr>\n",
       "      <th>29844</th>\n",
       "      <td>5</td>\n",
       "      <td>Everything was phenomenal! Sasha was our waitr...</td>\n",
       "    </tr>\n",
       "  </tbody>\n",
       "</table>\n",
       "<p>29845 rows × 2 columns</p>\n",
       "</div>"
      ],
      "text/plain": [
       "       stars                                               text\n",
       "0          1  I, only gave 1 star because based on the appea...\n",
       "1          1  Wouldn't go here again..... I got my belly but...\n",
       "2          1  Some of the reviews have mentioned how long it...\n",
       "3          1  Ok, I hate to give a place one star and I gene...\n",
       "4          1  i wish i could have given it a zero or a negat...\n",
       "...      ...                                                ...\n",
       "29840      5  Great place for drinks (I've never had food he...\n",
       "29841      5  My girlfriend and I just had a delightful lunc...\n",
       "29842      5  Gorgeous and stylish. Comfortable and clean. T...\n",
       "29843      5  Had a great time at BR! Our server Reyna? was ...\n",
       "29844      5  Everything was phenomenal! Sasha was our waitr...\n",
       "\n",
       "[29845 rows x 2 columns]"
      ]
     },
     "execution_count": 61,
     "metadata": {},
     "output_type": "execute_result"
    }
   ],
   "source": [
    "# randomly sample from each class based on how many samples the minority class holds\n",
    "seed = 42\n",
    "minority_class_count = len(review_df[review_df.loc[:, ('stars')] == 2])\n",
    "review_df = review_df.groupby('stars').apply(lambda x: x.sample(n=minority_class_count, random_state=seed)).reset_index(drop=True)\n",
    "review_df"
   ]
  },
  {
   "cell_type": "code",
   "execution_count": 62,
   "metadata": {},
   "outputs": [
    {
     "data": {
      "image/png": "[encoded data removed]",
      "text/plain": [
       "<Figure size 640x480 with 1 Axes>"
      ]
     },
     "metadata": {},
     "output_type": "display_data"
    }
   ],
   "source": [
    "# inspect distribution of classes\n",
    "review_df['stars'].value_counts().plot(kind='bar')\n",
    "plt.show()"
   ]
  },
  {
   "cell_type": "code",
   "execution_count": 63,
   "metadata": {},
   "outputs": [],
   "source": [
    "# transform data into pytorch tensors and tokenize\n",
    "from torch.utils.data import Dataset, DataLoader\n",
    "import torch\n",
    "from transformers import AutoTokenizer\n",
    "import tqdm"
   ]
  },
  {
   "cell_type": "code",
   "execution_count": 185,
   "metadata": {},
   "outputs": [],
   "source": [
    "class ReviewDataSet(Dataset):\n",
    "    \"\"\" torch Dataset for our review data \"\"\"\n",
    "    def __init__(self, dataframe):\n",
    "        self.data = self.format_dataset(dataframe)\n",
    "\n",
    "\n",
    "\n",
    "    \"\"\"gives length of dataset\"\"\"\n",
    "    def __len__(self) -> int:\n",
    "        return len(self.data)\n",
    "    \n",
    "    \"\"\"function allows object to be subscriptable -> dataset[0]\"\"\"\n",
    "    def __getitem__(self, key):\n",
    "        return self.data[key]\n",
    "        \n",
    "    \n",
    "    def tokenize_text(self, text_data):\n",
    "        token_dict = tokenizer(text_data, padding='max_length', truncation=True)\n",
    "        input = torch.tensor(token_dict['input_ids'])\n",
    "        token_type = torch.tensor(token_dict['token_type_ids'])\n",
    "        att_mask = torch.tensor(token_dict['attention_mask'])\n",
    "        return input, token_type, att_mask\n",
    "    \n",
    "    def format_dataset(self, dataframe: pd.DataFrame):\n",
    "        self.data = {}\n",
    "        input, token_type, att_mask = zip(*dataframe['text'].apply(self.tokenize_text))\n",
    "        self.data['label'] = torch.tensor(dataframe['stars'].to_list())\n",
    "        self.data['input_ids'] = input\n",
    "        self.data['token_type_ids'] = token_type\n",
    "        self.data['attention_mask'] = att_mask\n",
    "        return self.data\n",
    "        "
   ]
  },
  {
   "cell_type": "code",
   "execution_count": 186,
   "metadata": {},
   "outputs": [],
   "source": [
    "review_dataset = ReviewDataSet(review_df)"
   ]
  },
  {
   "cell_type": "code",
   "execution_count": 192,
   "metadata": {},
   "outputs": [
    {
     "name": "stdout",
     "output_type": "stream",
     "text": [
      "4\n",
      "tensor([1, 1, 1,  ..., 5, 5, 5])\n"
     ]
    },
    {
     "data": {
      "text/plain": [
       "tensor([1, 1, 1,  ..., 5, 5, 5])"
      ]
     },
     "execution_count": 192,
     "metadata": {},
     "output_type": "execute_result"
    }
   ],
   "source": [
    "# input for DataLoader needs to implement __getitem__() and __len__()\n",
    "print(len(review_dataset))\n",
    "print(review_dataset['label'])\n",
    "\n",
    "dataloader = DataLoader(review_dataset, shuffle=True, batch_size=8)\n",
    "dataloader.dataset['label']\n",
    "\n",
    "\n",
    "# TODO: split into train and val set, then create model"
   ]
  },
  {
   "cell_type": "code",
   "execution_count": null,
   "metadata": {},
   "outputs": [],
   "source": []
  }
 ],
 "metadata": {
  "kernelspec": {
   "display_name": ".venv",
   "language": "python",
   "name": "python3"
  },
  "language_info": {
   "codemirror_mode": {
    "name": "ipython",
    "version": 3
   },
   "file_extension": ".py",
   "mimetype": "text/x-python",
   "name": "python",
   "nbconvert_exporter": "python",
   "pygments_lexer": "ipython3",
   "version": "3.9.7"
  }
 },
 "nbformat": 4,
 "nbformat_minor": 2
}
