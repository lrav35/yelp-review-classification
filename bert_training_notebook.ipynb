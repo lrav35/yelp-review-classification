{
  "cells": [
    {
      "cell_type": "code",
      "execution_count": null,
      "metadata": {
        "id": "Ab99tskCVrrz"
      },
      "outputs": [],
      "source": [
        "!pip install evaluate"
      ]
    },
    {
      "cell_type": "code",
      "execution_count": 1,
      "metadata": {
        "id": "yzgLFGqRVe6Q"
      },
      "outputs": [],
      "source": [
        "import json\n",
        "import pandas as pd\n",
        "import matplotlib.pyplot as plt\n",
        "import torch\n",
        "from torch.utils.data import Dataset, DataLoader\n",
        "from torch.optim import AdamW\n",
        "from transformers import AutoModelForSequenceClassification, AutoTokenizer, get_scheduler\n",
        "from tqdm.auto import tqdm\n",
        "import evaluate\n",
        "import uuid\n",
        "\n",
        "from classification import ReviewDataSet, load_and_prepare_data, train_model\n"
      ]
    },
    {
      "cell_type": "code",
      "execution_count": 11,
      "metadata": {
        "colab": {
          "base_uri": "https://localhost:8080/"
        },
        "id": "CdOE6afHVe6R",
        "outputId": "a1cff7cd-9787-4bf0-da50-e7e06ac9e090"
      },
      "outputs": [
        {
          "output_type": "stream",
          "name": "stdout",
          "text": [
            "loading data...\n",
            "\n",
            "Drive already mounted at /content/drive; to attempt to forcibly remount, call drive.mount(\"/content/drive\", force_remount=True).\n"
          ]
        }
      ],
      "source": [
        "# load data\n",
        "print(\"loading data...\\n\")\n",
        "path = \"drive/MyDrive/yelp_reviews\"\n",
        "df = load_and_prepare_data(path+\"/yelp_academic_dataset_review.json\", sample_size=75000, COLAB=True)"
      ]
    },
    {
      "cell_type": "code",
      "execution_count": 12,
      "metadata": {
        "id": "6jeUKMIJVe6R"
      },
      "outputs": [],
      "source": [
        "# create dataset\n",
        "tokenizer = AutoTokenizer.from_pretrained('bert-base-cased', use_fast=False)\n",
        "review_dataset = ReviewDataSet(tokenizer, df)"
      ]
    },
    {
      "cell_type": "code",
      "execution_count": 13,
      "metadata": {
        "colab": {
          "base_uri": "https://localhost:8080/"
        },
        "id": "4IHX3NeSVe6R",
        "outputId": "ffadc04f-08b3-45d0-a972-f2c19ef46e50"
      },
      "outputs": [
        {
          "output_type": "stream",
          "name": "stdout",
          "text": [
            "train and validation dataset sizes: (23876, 5969)\n",
            "\n"
          ]
        }
      ],
      "source": [
        "# train and val split\n",
        "train_size = int(0.8 * len(review_dataset))\n",
        "val_size = len(review_dataset) - train_size\n",
        "generator = torch.Generator().manual_seed(42)\n",
        "train_dataset, val_dataset = torch.utils.data.random_split(review_dataset, [train_size, val_size], generator)\n",
        "print(f'train and validation dataset sizes: {len(train_dataset), len(val_dataset)}\\n')"
      ]
    },
    {
      "cell_type": "code",
      "execution_count": 14,
      "metadata": {
        "id": "iiWrnTQrVe6R"
      },
      "outputs": [],
      "source": [
        "# dataloader\n",
        "train_dataloader = DataLoader(train_dataset, shuffle=True, batch_size=16)\n",
        "val_dataloader = DataLoader(val_dataset, batch_size=16)"
      ]
    },
    {
      "cell_type": "code",
      "execution_count": 15,
      "metadata": {
        "colab": {
          "base_uri": "https://localhost:8080/"
        },
        "id": "etxuSdiYVe6R",
        "outputId": "9f54191b-a461-46a9-e3a5-3ccaffc06c2d"
      },
      "outputs": [
        {
          "output_type": "stream",
          "name": "stderr",
          "text": [
            "Some weights of BertForSequenceClassification were not initialized from the model checkpoint at bert-base-cased and are newly initialized: ['classifier.bias', 'classifier.weight']\n",
            "You should probably TRAIN this model on a down-stream task to be able to use it for predictions and inference.\n"
          ]
        },
        {
          "output_type": "stream",
          "name": "stdout",
          "text": [
            "model params: 108314117\n",
            "\n"
          ]
        }
      ],
      "source": [
        "# initialize model\n",
        "model = AutoModelForSequenceClassification.from_pretrained('bert-base-cased', num_labels=5)\n",
        "optimizer = AdamW(model.parameters(), lr=5e-5)\n",
        "num_params = sum([p.numel() for p in model.parameters()])\n",
        "print(f\"model params: {num_params}\\n\")\n",
        "\n",
        "epochs = 5\n",
        "train_steps = epochs * len(train_dataloader)\n",
        "lr_scheduler = get_scheduler(name='linear', optimizer=optimizer, num_warmup_steps=0, num_training_steps=train_steps)"
      ]
    },
    {
      "cell_type": "code",
      "execution_count": null,
      "metadata": {
        "id": "Ja7sXsQgVe6R"
      },
      "outputs": [],
      "source": [
        "# set device and send model to device\n",
        "device = torch.device('cpu')\n",
        "if torch.cuda.is_available():\n",
        "    device = torch.device('cuda')\n",
        "model.to(device)"
      ]
    },
    {
      "cell_type": "code",
      "execution_count": 17,
      "metadata": {
        "colab": {
          "base_uri": "https://localhost:8080/"
        },
        "id": "-vxhrvweXTas",
        "outputId": "986e0f83-2135-4122-aa8f-224d13122b51"
      },
      "outputs": [
        {
          "output_type": "execute_result",
          "data": {
            "text/plain": [
              "device(type='cuda')"
            ]
          },
          "metadata": {},
          "execution_count": 17
        }
      ],
      "source": [
        "device"
      ]
    },
    {
      "cell_type": "code",
      "execution_count": 18,
      "metadata": {
        "id": "axnWZTTmVe6R",
        "colab": {
          "base_uri": "https://localhost:8080/",
          "height": 1000,
          "referenced_widgets": [
            "4c0f1071b64943069fb07b5eb61f0070",
            "713138caa4bc4d0aa5ab9d504eaf5773",
            "320ad0e7db434c2f803208f436040d7e",
            "317fd680484f495faf1bd1ff8b078e88",
            "a4a3ad837e5247bd8eb0974c7818777e",
            "0934c0c52c3644bd81e63a2df0852248",
            "ee20b5dd99ca49cea8e40b15e5882290",
            "719a70a188ca48eab788465433dc608d",
            "a8fb2de5cc2c4cbbaa80a61fd0b011de",
            "3c400ff2fd254635b3ec6175d9e366cf",
            "deca5c72f3504d9eadf35bfe5a913df8"
          ]
        },
        "outputId": "08ea8415-7051-4e89-dd3a-cf97b07f49d3"
      },
      "outputs": [
        {
          "output_type": "stream",
          "name": "stdout",
          "text": [
            "beginning model training...\n",
            "\n"
          ]
        },
        {
          "output_type": "display_data",
          "data": {
            "text/plain": [
              "  0%|          | 0/7465 [00:00<?, ?it/s]"
            ],
            "application/vnd.jupyter.widget-view+json": {
              "version_major": 2,
              "version_minor": 0,
              "model_id": "4c0f1071b64943069fb07b5eb61f0070"
            }
          },
          "metadata": {}
        },
        {
          "output_type": "stream",
          "name": "stdout",
          "text": [
            "model id :: 302656d9-aa1a-4028-94d4-3fda972caf28\n",
            "evaluating model...\n",
            "\n",
            "Accuracy: 0.5848550846037862\n",
            "saving model at epoch: 1, step: 746\n",
            "current best accuracy: 0.5848550846037862\n",
            "\n",
            "evaluating model...\n",
            "\n",
            "Accuracy: 0.6285810018428547\n",
            "saving model at epoch: 1, step: 1492\n",
            "current best accuracy: 0.6285810018428547\n",
            "\n",
            "evaluating model...\n",
            "\n",
            "Accuracy: 0.6326017758418495\n",
            "saving model at epoch: 2, step: 746\n",
            "current best accuracy: 0.6326017758418495\n",
            "\n",
            "evaluating model...\n",
            "\n",
            "Accuracy: 0.6460043558384989\n",
            "saving model at epoch: 2, step: 1492\n",
            "current best accuracy: 0.6460043558384989\n",
            "\n",
            "evaluating model...\n",
            "\n",
            "Accuracy: 0.637460211090635\n",
            "skipping model save...\n",
            "current best accuracy: 0.6460043558384989\n",
            "\n",
            "evaluating model...\n",
            "\n",
            "Accuracy: 0.6424861785893785\n",
            "skipping model save...\n",
            "current best accuracy: 0.6460043558384989\n",
            "\n",
            "evaluating model...\n",
            "\n",
            "Accuracy: 0.6393030658401743\n",
            "skipping model save...\n",
            "current best accuracy: 0.6460043558384989\n",
            "\n",
            "evaluating model...\n",
            "\n",
            "Accuracy: 0.6372926788406769\n",
            "skipping model save...\n",
            "current best accuracy: 0.6460043558384989\n",
            "\n",
            "evaluating model...\n",
            "\n",
            "Accuracy: 0.6424861785893785\n",
            "skipping model save...\n",
            "current best accuracy: 0.6460043558384989\n",
            "\n",
            "evaluating model...\n",
            "\n",
            "Accuracy: 0.6369576143407606\n",
            "skipping model save...\n",
            "current best accuracy: 0.6460043558384989\n",
            "\n",
            "complete\n"
          ]
        },
        {
          "output_type": "display_data",
          "data": {
            "text/plain": [
              "<Figure size 640x480 with 1 Axes>"
            ],
            "image/png": "[encoded data removed]"
          },
          "metadata": {}
        }
      ],
      "source": [
        "# train model\n",
        "print(\"beginning model training...\\n\")\n",
        "train_model(model, epochs, train_dataloader, val_dataloader, train_steps, optimizer, lr_scheduler, path)\n",
        "print(\"complete\")"
      ]
    },
    {
      "cell_type": "code",
      "execution_count": null,
      "metadata": {
        "id": "8oAhm6R3Ve6R"
      },
      "outputs": [],
      "source": [
        "# load pretrained model\n",
        "# path = \"drive/MyDrive/yelp_reviews/bert_model\"\n",
        "path = \"drive/MyDrive/yelp_reviews/outputs/bert/302656d9-aa1a-4028-94d4-3fda972caf28/epoch_2/step_1492/\"\n",
        "\n",
        "model = AutoModelForSequenceClassification.from_pretrained(path)\n",
        "model.to(device)"
      ]
    }
  ],
  "metadata": {
    "accelerator": "GPU",
    "colab": {
      "provenance": []
    },
    "kernelspec": {
      "display_name": "Python 3",
      "name": "python3"
    },
    "language_info": {
      "codemirror_mode": {
        "name": "ipython",
        "version": 3
      },
      "file_extension": ".py",
      "mimetype": "text/x-python",
      "name": "python",
      "nbconvert_exporter": "python",
      "pygments_lexer": "ipython3",
      "version": "3.9.7"
    },
    "widgets": {
      "application/vnd.jupyter.widget-state+json": {
        "4c0f1071b64943069fb07b5eb61f0070": {
          "model_module": "@jupyter-widgets/controls",
          "model_name": "HBoxModel",
          "model_module_version": "1.5.0",
          "state": {
            "_dom_classes": [],
            "_model_module": "@jupyter-widgets/controls",
            "_model_module_version": "1.5.0",
            "_model_name": "HBoxModel",
            "_view_count": null,
            "_view_module": "@jupyter-widgets/controls",
            "_view_module_version": "1.5.0",
            "_view_name": "HBoxView",
            "box_style": "",
            "children": [
              "IPY_MODEL_713138caa4bc4d0aa5ab9d504eaf5773",
              "IPY_MODEL_320ad0e7db434c2f803208f436040d7e",
              "IPY_MODEL_317fd680484f495faf1bd1ff8b078e88"
            ],
            "layout": "IPY_MODEL_a4a3ad837e5247bd8eb0974c7818777e"
          }
        },
        "713138caa4bc4d0aa5ab9d504eaf5773": {
          "model_module": "@jupyter-widgets/controls",
          "model_name": "HTMLModel",
          "model_module_version": "1.5.0",
          "state": {
            "_dom_classes": [],
            "_model_module": "@jupyter-widgets/controls",
            "_model_module_version": "1.5.0",
            "_model_name": "HTMLModel",
            "_view_count": null,
            "_view_module": "@jupyter-widgets/controls",
            "_view_module_version": "1.5.0",
            "_view_name": "HTMLView",
            "description": "",
            "description_tooltip": null,
            "layout": "IPY_MODEL_0934c0c52c3644bd81e63a2df0852248",
            "placeholder": "​",
            "style": "IPY_MODEL_ee20b5dd99ca49cea8e40b15e5882290",
            "value": "Epoch 5 :: Step 1493: 100%"
          }
        },
        "320ad0e7db434c2f803208f436040d7e": {
          "model_module": "@jupyter-widgets/controls",
          "model_name": "FloatProgressModel",
          "model_module_version": "1.5.0",
          "state": {
            "_dom_classes": [],
            "_model_module": "@jupyter-widgets/controls",
            "_model_module_version": "1.5.0",
            "_model_name": "FloatProgressModel",
            "_view_count": null,
            "_view_module": "@jupyter-widgets/controls",
            "_view_module_version": "1.5.0",
            "_view_name": "ProgressView",
            "bar_style": "",
            "description": "",
            "description_tooltip": null,
            "layout": "IPY_MODEL_719a70a188ca48eab788465433dc608d",
            "max": 7465,
            "min": 0,
            "orientation": "horizontal",
            "style": "IPY_MODEL_a8fb2de5cc2c4cbbaa80a61fd0b011de",
            "value": 7465
          }
        },
        "317fd680484f495faf1bd1ff8b078e88": {
          "model_module": "@jupyter-widgets/controls",
          "model_name": "HTMLModel",
          "model_module_version": "1.5.0",
          "state": {
            "_dom_classes": [],
            "_model_module": "@jupyter-widgets/controls",
            "_model_module_version": "1.5.0",
            "_model_name": "HTMLModel",
            "_view_count": null,
            "_view_module": "@jupyter-widgets/controls",
            "_view_module_version": "1.5.0",
            "_view_name": "HTMLView",
            "description": "",
            "description_tooltip": null,
            "layout": "IPY_MODEL_3c400ff2fd254635b3ec6175d9e366cf",
            "placeholder": "​",
            "style": "IPY_MODEL_deca5c72f3504d9eadf35bfe5a913df8",
            "value": " 7465/7465 [3:22:43&lt;00:00, 40.10s/it]"
          }
        },
        "a4a3ad837e5247bd8eb0974c7818777e": {
          "model_module": "@jupyter-widgets/base",
          "model_name": "LayoutModel",
          "model_module_version": "1.2.0",
          "state": {
            "_model_module": "@jupyter-widgets/base",
            "_model_module_version": "1.2.0",
            "_model_name": "LayoutModel",
            "_view_count": null,
            "_view_module": "@jupyter-widgets/base",
            "_view_module_version": "1.2.0",
            "_view_name": "LayoutView",
            "align_content": null,
            "align_items": null,
            "align_self": null,
            "border": null,
            "bottom": null,
            "display": null,
            "flex": null,
            "flex_flow": null,
            "grid_area": null,
            "grid_auto_columns": null,
            "grid_auto_flow": null,
            "grid_auto_rows": null,
            "grid_column": null,
            "grid_gap": null,
            "grid_row": null,
            "grid_template_areas": null,
            "grid_template_columns": null,
            "grid_template_rows": null,
            "height": null,
            "justify_content": null,
            "justify_items": null,
            "left": null,
            "margin": null,
            "max_height": null,
            "max_width": null,
            "min_height": null,
            "min_width": null,
            "object_fit": null,
            "object_position": null,
            "order": null,
            "overflow": null,
            "overflow_x": null,
            "overflow_y": null,
            "padding": null,
            "right": null,
            "top": null,
            "visibility": null,
            "width": null
          }
        },
        "0934c0c52c3644bd81e63a2df0852248": {
          "model_module": "@jupyter-widgets/base",
          "model_name": "LayoutModel",
          "model_module_version": "1.2.0",
          "state": {
            "_model_module": "@jupyter-widgets/base",
            "_model_module_version": "1.2.0",
            "_model_name": "LayoutModel",
            "_view_count": null,
            "_view_module": "@jupyter-widgets/base",
            "_view_module_version": "1.2.0",
            "_view_name": "LayoutView",
            "align_content": null,
            "align_items": null,
            "align_self": null,
            "border": null,
            "bottom": null,
            "display": null,
            "flex": null,
            "flex_flow": null,
            "grid_area": null,
            "grid_auto_columns": null,
            "grid_auto_flow": null,
            "grid_auto_rows": null,
            "grid_column": null,
            "grid_gap": null,
            "grid_row": null,
            "grid_template_areas": null,
            "grid_template_columns": null,
            "grid_template_rows": null,
            "height": null,
            "justify_content": null,
            "justify_items": null,
            "left": null,
            "margin": null,
            "max_height": null,
            "max_width": null,
            "min_height": null,
            "min_width": null,
            "object_fit": null,
            "object_position": null,
            "order": null,
            "overflow": null,
            "overflow_x": null,
            "overflow_y": null,
            "padding": null,
            "right": null,
            "top": null,
            "visibility": null,
            "width": null
          }
        },
        "ee20b5dd99ca49cea8e40b15e5882290": {
          "model_module": "@jupyter-widgets/controls",
          "model_name": "DescriptionStyleModel",
          "model_module_version": "1.5.0",
          "state": {
            "_model_module": "@jupyter-widgets/controls",
            "_model_module_version": "1.5.0",
            "_model_name": "DescriptionStyleModel",
            "_view_count": null,
            "_view_module": "@jupyter-widgets/base",
            "_view_module_version": "1.2.0",
            "_view_name": "StyleView",
            "description_width": ""
          }
        },
        "719a70a188ca48eab788465433dc608d": {
          "model_module": "@jupyter-widgets/base",
          "model_name": "LayoutModel",
          "model_module_version": "1.2.0",
          "state": {
            "_model_module": "@jupyter-widgets/base",
            "_model_module_version": "1.2.0",
            "_model_name": "LayoutModel",
            "_view_count": null,
            "_view_module": "@jupyter-widgets/base",
            "_view_module_version": "1.2.0",
            "_view_name": "LayoutView",
            "align_content": null,
            "align_items": null,
            "align_self": null,
            "border": null,
            "bottom": null,
            "display": null,
            "flex": null,
            "flex_flow": null,
            "grid_area": null,
            "grid_auto_columns": null,
            "grid_auto_flow": null,
            "grid_auto_rows": null,
            "grid_column": null,
            "grid_gap": null,
            "grid_row": null,
            "grid_template_areas": null,
            "grid_template_columns": null,
            "grid_template_rows": null,
            "height": null,
            "justify_content": null,
            "justify_items": null,
            "left": null,
            "margin": null,
            "max_height": null,
            "max_width": null,
            "min_height": null,
            "min_width": null,
            "object_fit": null,
            "object_position": null,
            "order": null,
            "overflow": null,
            "overflow_x": null,
            "overflow_y": null,
            "padding": null,
            "right": null,
            "top": null,
            "visibility": null,
            "width": null
          }
        },
        "a8fb2de5cc2c4cbbaa80a61fd0b011de": {
          "model_module": "@jupyter-widgets/controls",
          "model_name": "ProgressStyleModel",
          "model_module_version": "1.5.0",
          "state": {
            "_model_module": "@jupyter-widgets/controls",
            "_model_module_version": "1.5.0",
            "_model_name": "ProgressStyleModel",
            "_view_count": null,
            "_view_module": "@jupyter-widgets/base",
            "_view_module_version": "1.2.0",
            "_view_name": "StyleView",
            "bar_color": null,
            "description_width": ""
          }
        },
        "3c400ff2fd254635b3ec6175d9e366cf": {
          "model_module": "@jupyter-widgets/base",
          "model_name": "LayoutModel",
          "model_module_version": "1.2.0",
          "state": {
            "_model_module": "@jupyter-widgets/base",
            "_model_module_version": "1.2.0",
            "_model_name": "LayoutModel",
            "_view_count": null,
            "_view_module": "@jupyter-widgets/base",
            "_view_module_version": "1.2.0",
            "_view_name": "LayoutView",
            "align_content": null,
            "align_items": null,
            "align_self": null,
            "border": null,
            "bottom": null,
            "display": null,
            "flex": null,
            "flex_flow": null,
            "grid_area": null,
            "grid_auto_columns": null,
            "grid_auto_flow": null,
            "grid_auto_rows": null,
            "grid_column": null,
            "grid_gap": null,
            "grid_row": null,
            "grid_template_areas": null,
            "grid_template_columns": null,
            "grid_template_rows": null,
            "height": null,
            "justify_content": null,
            "justify_items": null,
            "left": null,
            "margin": null,
            "max_height": null,
            "max_width": null,
            "min_height": null,
            "min_width": null,
            "object_fit": null,
            "object_position": null,
            "order": null,
            "overflow": null,
            "overflow_x": null,
            "overflow_y": null,
            "padding": null,
            "right": null,
            "top": null,
            "visibility": null,
            "width": null
          }
        },
        "deca5c72f3504d9eadf35bfe5a913df8": {
          "model_module": "@jupyter-widgets/controls",
          "model_name": "DescriptionStyleModel",
          "model_module_version": "1.5.0",
          "state": {
            "_model_module": "@jupyter-widgets/controls",
            "_model_module_version": "1.5.0",
            "_model_name": "DescriptionStyleModel",
            "_view_count": null,
            "_view_module": "@jupyter-widgets/base",
            "_view_module_version": "1.2.0",
            "_view_name": "StyleView",
            "description_width": ""
          }
        }
      }
    }
  },
  "nbformat": 4,
  "nbformat_minor": 0
}